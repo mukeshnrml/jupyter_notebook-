{
 "cells": [
  {
   "cell_type": "code",
   "execution_count": 1,
   "id": "82d0fecc",
   "metadata": {},
   "outputs": [],
   "source": [
    "def sum(a,b):\n",
    "    print(a+b)"
   ]
  },
  {
   "cell_type": "code",
   "execution_count": null,
   "id": "f428b005",
   "metadata": {},
   "outputs": [],
   "source": []
  },
  {
   "cell_type": "code",
   "execution_count": null,
   "id": "6071886d",
   "metadata": {},
   "outputs": [],
   "source": []
  },
  {
   "cell_type": "code",
   "execution_count": 2,
   "id": "89bf6e71",
   "metadata": {},
   "outputs": [
    {
     "name": "stdout",
     "output_type": "stream",
     "text": [
      "17\n"
     ]
    }
   ],
   "source": [
    "sum(8,9)"
   ]
  },
  {
   "cell_type": "code",
   "execution_count": 5,
   "id": "17ca62cf",
   "metadata": {},
   "outputs": [],
   "source": [
    "aa = lambda a,b:print(a+b)"
   ]
  },
  {
   "cell_type": "code",
   "execution_count": 6,
   "id": "42f88080",
   "metadata": {},
   "outputs": [
    {
     "name": "stdout",
     "output_type": "stream",
     "text": [
      "14\n"
     ]
    }
   ],
   "source": [
    "aa(8,6)"
   ]
  },
  {
   "cell_type": "code",
   "execution_count": 9,
   "id": "0baf0af0",
   "metadata": {},
   "outputs": [
    {
     "name": "stdout",
     "output_type": "stream",
     "text": [
      "20\n"
     ]
    }
   ],
   "source": [
    "print((lambda a,b: a+b)(5,15))"
   ]
  },
  {
   "cell_type": "code",
   "execution_count": 10,
   "id": "e15ed1c5",
   "metadata": {},
   "outputs": [
    {
     "name": "stdout",
     "output_type": "stream",
     "text": [
      "64\n"
     ]
    }
   ],
   "source": [
    "def pow(a,b):\n",
    "    print(a**b)\n",
    "    \n",
    "pow(4,3)"
   ]
  },
  {
   "cell_type": "code",
   "execution_count": 13,
   "id": "59202f95",
   "metadata": {},
   "outputs": [
    {
     "name": "stdout",
     "output_type": "stream",
     "text": [
      "64\n"
     ]
    }
   ],
   "source": [
    "print((lambda a,b:a**b)(4,3))"
   ]
  },
  {
   "cell_type": "code",
   "execution_count": 15,
   "id": "3d051fbc",
   "metadata": {},
   "outputs": [],
   "source": [
    "def sum (a,b,c,d,e):\n",
    "    print(a+b-c*d/e)"
   ]
  },
  {
   "cell_type": "code",
   "execution_count": 17,
   "id": "99ee39fc",
   "metadata": {},
   "outputs": [
    {
     "name": "stdout",
     "output_type": "stream",
     "text": [
      "21.0\n"
     ]
    }
   ],
   "source": [
    "sum(22,55,44,56,44)"
   ]
  },
  {
   "cell_type": "code",
   "execution_count": 18,
   "id": "2994c17d",
   "metadata": {},
   "outputs": [
    {
     "name": "stdout",
     "output_type": "stream",
     "text": [
      "64\n"
     ]
    }
   ],
   "source": [
    "def calc(a):print(a**2)\n",
    "    \n",
    "calc(8)"
   ]
  },
  {
   "cell_type": "code",
   "execution_count": 20,
   "id": "0450ff8b",
   "metadata": {},
   "outputs": [
    {
     "name": "stdout",
     "output_type": "stream",
     "text": [
      "81\n"
     ]
    }
   ],
   "source": [
    "print((lambda a:a**2)(9))"
   ]
  },
  {
   "cell_type": "code",
   "execution_count": 28,
   "id": "31e12f00",
   "metadata": {},
   "outputs": [
    {
     "name": "stdout",
     "output_type": "stream",
     "text": [
      "You can not Vote\n",
      "You can Vote\n",
      "You can not Vote\n",
      "You can Vote\n",
      "You can Vote\n",
      "You can not Vote\n",
      "You can not Vote\n"
     ]
    }
   ],
   "source": [
    "age = [6, 87, 12, 45, 27, 17, 10]\n",
    "\n",
    "def voter(a):\n",
    "    if a>=18:\n",
    "        print('You can Vote')\n",
    "    else:\n",
    "        print('You can not Vote')\n",
    "        \n",
    "voters = list(filter(voter,age))"
   ]
  },
  {
   "cell_type": "code",
   "execution_count": 31,
   "id": "7446b497",
   "metadata": {},
   "outputs": [
    {
     "name": "stdout",
     "output_type": "stream",
     "text": [
      "<filter object at 0x00000210C615C940>\n"
     ]
    }
   ],
   "source": [
    "age = [6,8,45,74,15,45,14]\n",
    "voters = filter(lambda a: a<=18, age)\n",
    "print(voters)"
   ]
  },
  {
   "cell_type": "code",
   "execution_count": 32,
   "id": "5e5842d9",
   "metadata": {},
   "outputs": [
    {
     "name": "stdout",
     "output_type": "stream",
     "text": [
      "6\n",
      "8\n",
      "15\n",
      "14\n"
     ]
    }
   ],
   "source": [
    "for x in voters:print(x)"
   ]
  },
  {
   "cell_type": "code",
   "execution_count": 35,
   "id": "e6fb58e6",
   "metadata": {},
   "outputs": [],
   "source": [
    "nsti = ['ALD', 'DDN','MUM','KNP','JUD','PAT']\n",
    "\n",
    "def nrml(a):\n",
    "    if a == 'ALD' or a=='PAT' or a=='KNP' or a=='DDN':\n",
    "        print('Allow')\n",
    "    else:\n",
    "        print('Leave')\n",
    "    \n",
    "allowed = filter(nrml,nsti)"
   ]
  },
  {
   "cell_type": "code",
   "execution_count": 36,
   "id": "ea4797b2",
   "metadata": {},
   "outputs": [
    {
     "name": "stdout",
     "output_type": "stream",
     "text": [
      "Allow\n",
      "Allow\n",
      "Leave\n",
      "Allow\n",
      "Leave\n",
      "Allow\n"
     ]
    }
   ],
   "source": [
    "for x in allowed:print(x)"
   ]
  },
  {
   "cell_type": "code",
   "execution_count": 41,
   "id": "834ba722",
   "metadata": {},
   "outputs": [
    {
     "name": "stdout",
     "output_type": "stream",
     "text": [
      "78\n",
      "89\n"
     ]
    }
   ],
   "source": [
    "marks = [52,78,41,54,25,45,11,89]\n",
    "\n",
    "def firstclass(a):\n",
    "        if a>=60 and a<=100:\n",
    "            return True\n",
    "        else:\n",
    "            return False\n",
    "        \n",
    "firstc = filter(firstclass,marks)\n",
    "\n",
    "for x in firstc:print(x)"
   ]
  },
  {
   "cell_type": "code",
   "execution_count": 44,
   "id": "d4a31252",
   "metadata": {},
   "outputs": [
    {
     "name": "stdout",
     "output_type": "stream",
     "text": [
      "2\n",
      "6\n",
      "56\n",
      "24\n",
      "242\n"
     ]
    }
   ],
   "source": [
    "a = [1,2,3,6,33,56,24,242,]\n",
    "even = list(filter(lambda a:a%2==0, a))\n",
    "for c in even:print(c)"
   ]
  },
  {
   "cell_type": "code",
   "execution_count": 45,
   "id": "f5e49f62",
   "metadata": {},
   "outputs": [
    {
     "name": "stdout",
     "output_type": "stream",
     "text": [
      "u r voter\n",
      "u r voter\n",
      "u r voter\n",
      "[None, None, None]\n"
     ]
    }
   ],
   "source": [
    "age = [7, 19, 14, 26, 75, 13]\n",
    "voter = filter(lambda a: a>=18, age)\n",
    "remark = list(map(lambda b : print('u r voter'), voter))\n",
    "print(remark)"
   ]
  },
  {
   "cell_type": "code",
   "execution_count": 49,
   "id": "d6fafea5",
   "metadata": {},
   "outputs": [
    {
     "name": "stdout",
     "output_type": "stream",
     "text": [
      "(1, 4, 9, 16)\n"
     ]
    }
   ],
   "source": [
    "def sq(num1):\n",
    "    return num1*num1\n",
    "\n",
    "number = 1,2,3,4\n",
    "\n",
    "result = tuple(map(sq,number))\n",
    "print(result)"
   ]
  },
  {
   "cell_type": "markdown",
   "id": "c703f7f3",
   "metadata": {},
   "source": [
    "# Second holf"
   ]
  },
  {
   "cell_type": "code",
   "execution_count": 5,
   "id": "7b64923b",
   "metadata": {},
   "outputs": [],
   "source": [
    "from functools import reduce\n",
    "a = [5,85,75,125,2,56,8]\n",
    "sum = reduce(lambda b,c: b if b>c else c, a)"
   ]
  },
  {
   "cell_type": "code",
   "execution_count": 7,
   "id": "977fd48b",
   "metadata": {},
   "outputs": [
    {
     "name": "stdout",
     "output_type": "stream",
     "text": [
      "21\n"
     ]
    }
   ],
   "source": [
    "import functools\n",
    "a = [1,2,5,6,7]\n",
    "sum = functools.reduce(lambda a,b: a+b, a)\n",
    "print(sum)\n"
   ]
  },
  {
   "cell_type": "code",
   "execution_count": 8,
   "id": "789c570e",
   "metadata": {},
   "outputs": [
    {
     "name": "stdout",
     "output_type": "stream",
     "text": [
      "7\n"
     ]
    }
   ],
   "source": [
    "from functools import reduce\n",
    "a = [1,2,5,6,7]\n",
    "print(reduce(lambda b,c: b if b>c else c, a))"
   ]
  },
  {
   "cell_type": "code",
   "execution_count": 19,
   "id": "a805affa",
   "metadata": {},
   "outputs": [],
   "source": [
    "c = open('mukesh.txt','w')"
   ]
  },
  {
   "cell_type": "code",
   "execution_count": 20,
   "id": "8d1f0c45",
   "metadata": {},
   "outputs": [
    {
     "data": {
      "text/plain": [
       "19"
      ]
     },
     "execution_count": 20,
     "metadata": {},
     "output_type": "execute_result"
    }
   ],
   "source": [
    "c.write('This is Mukesh Nrml')"
   ]
  },
  {
   "cell_type": "code",
   "execution_count": 22,
   "id": "df9c1008",
   "metadata": {},
   "outputs": [],
   "source": [
    "c.close()"
   ]
  },
  {
   "cell_type": "code",
   "execution_count": 23,
   "id": "a878577c",
   "metadata": {},
   "outputs": [
    {
     "name": "stdout",
     "output_type": "stream",
     "text": [
      "This is Mukesh Nrml\n"
     ]
    }
   ],
   "source": [
    "d = open('mukesh.txt','r')\n",
    "print(d.read())"
   ]
  },
  {
   "cell_type": "code",
   "execution_count": 24,
   "id": "81c25900",
   "metadata": {},
   "outputs": [],
   "source": [
    "d.close()"
   ]
  },
  {
   "cell_type": "code",
   "execution_count": 25,
   "id": "01891318",
   "metadata": {},
   "outputs": [
    {
     "data": {
      "text/plain": [
       "18"
      ]
     },
     "execution_count": 25,
     "metadata": {},
     "output_type": "execute_result"
    }
   ],
   "source": [
    "e = open('mukesh.txt','w')\n",
    "e.write('This is ADIT Class')"
   ]
  },
  {
   "cell_type": "code",
   "execution_count": 26,
   "id": "0041d4a2",
   "metadata": {},
   "outputs": [],
   "source": [
    "e.close()"
   ]
  },
  {
   "cell_type": "code",
   "execution_count": 27,
   "id": "ebcfb7a3",
   "metadata": {},
   "outputs": [
    {
     "data": {
      "text/plain": [
       "'This is ADIT Class'"
      ]
     },
     "execution_count": 27,
     "metadata": {},
     "output_type": "execute_result"
    }
   ],
   "source": [
    "f = open('mukesh.txt','r')\n",
    "f.read()"
   ]
  },
  {
   "cell_type": "code",
   "execution_count": 28,
   "id": "4376c94c",
   "metadata": {},
   "outputs": [],
   "source": [
    "f.close()"
   ]
  },
  {
   "cell_type": "code",
   "execution_count": 29,
   "id": "f7cb99ca",
   "metadata": {},
   "outputs": [
    {
     "data": {
      "text/plain": [
       "8"
      ]
     },
     "execution_count": 29,
     "metadata": {},
     "output_type": "execute_result"
    }
   ],
   "source": [
    "g = open('mukesh.txt','a')\n",
    "g.write('Hiiiiiii')"
   ]
  },
  {
   "cell_type": "code",
   "execution_count": 30,
   "id": "b53a95bb",
   "metadata": {},
   "outputs": [],
   "source": [
    "g.close()"
   ]
  },
  {
   "cell_type": "code",
   "execution_count": 31,
   "id": "cb1b19ac",
   "metadata": {},
   "outputs": [
    {
     "data": {
      "text/plain": [
       "'This is ADIT ClassHiiiiiii'"
      ]
     },
     "execution_count": 31,
     "metadata": {},
     "output_type": "execute_result"
    }
   ],
   "source": [
    "h = open('mukesh.txt','r')\n",
    "h.read()"
   ]
  },
  {
   "cell_type": "code",
   "execution_count": null,
   "id": "c9174224",
   "metadata": {},
   "outputs": [],
   "source": []
  },
  {
   "cell_type": "code",
   "execution_count": 32,
   "id": "9a894d79",
   "metadata": {},
   "outputs": [],
   "source": [
    "a1= open('nrml.txt','x')"
   ]
  },
  {
   "cell_type": "code",
   "execution_count": 33,
   "id": "41f81e5c",
   "metadata": {},
   "outputs": [],
   "source": [
    "a1.close()"
   ]
  },
  {
   "cell_type": "code",
   "execution_count": 34,
   "id": "06da2b6a",
   "metadata": {},
   "outputs": [],
   "source": [
    "b = open('nrml.txt','w')"
   ]
  },
  {
   "cell_type": "code",
   "execution_count": 35,
   "id": "c35f3061",
   "metadata": {},
   "outputs": [
    {
     "data": {
      "text/plain": [
       "27"
      ]
     },
     "execution_count": 35,
     "metadata": {},
     "output_type": "execute_result"
    }
   ],
   "source": [
    "b.write('Hiii this is python program')"
   ]
  },
  {
   "cell_type": "code",
   "execution_count": 36,
   "id": "a793520d",
   "metadata": {},
   "outputs": [],
   "source": [
    "b.close()"
   ]
  },
  {
   "cell_type": "code",
   "execution_count": null,
   "id": "e073de24",
   "metadata": {},
   "outputs": [],
   "source": [
    "pip install os-sys"
   ]
  },
  {
   "cell_type": "code",
   "execution_count": null,
   "id": "d03a0dd8",
   "metadata": {},
   "outputs": [],
   "source": [
    "import os\n",
    "os.remove('mknn.txt')"
   ]
  },
  {
   "cell_type": "code",
   "execution_count": null,
   "id": "6823564f",
   "metadata": {},
   "outputs": [],
   "source": [
    "a = open('mkn.txt','x')"
   ]
  },
  {
   "cell_type": "code",
   "execution_count": null,
   "id": "212b5913",
   "metadata": {},
   "outputs": [],
   "source": [
    "a.close()"
   ]
  },
  {
   "cell_type": "code",
   "execution_count": null,
   "id": "034bbce8",
   "metadata": {},
   "outputs": [],
   "source": []
  }
 ],
 "metadata": {
  "kernelspec": {
   "display_name": "Python 3 (ipykernel)",
   "language": "python",
   "name": "python3"
  },
  "language_info": {
   "codemirror_mode": {
    "name": "ipython",
    "version": 3
   },
   "file_extension": ".py",
   "mimetype": "text/x-python",
   "name": "python",
   "nbconvert_exporter": "python",
   "pygments_lexer": "ipython3",
   "version": "3.11.4"
  }
 },
 "nbformat": 4,
 "nbformat_minor": 5
}
