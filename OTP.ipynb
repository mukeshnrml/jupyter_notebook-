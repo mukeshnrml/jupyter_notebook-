{
 "cells": [
  {
   "cell_type": "code",
   "execution_count": 1,
   "id": "c89cf611",
   "metadata": {},
   "outputs": [
    {
     "name": "stdout",
     "output_type": "stream",
     "text": [
      "Note: you may need to restart the kernel to use updated packages.\n"
     ]
    },
    {
     "name": "stderr",
     "output_type": "stream",
     "text": [
      "ERROR: Could not find a version that satisfies the requirement random (from versions: none)\n",
      "ERROR: No matching distribution found for random\n"
     ]
    }
   ],
   "source": [
    "pip install random"
   ]
  },
  {
   "cell_type": "code",
   "execution_count": 2,
   "id": "ef4fcdd2",
   "metadata": {},
   "outputs": [
    {
     "name": "stdout",
     "output_type": "stream",
     "text": [
      "2738\n"
     ]
    }
   ],
   "source": [
    "import random\n",
    "otp = random.randrange(1000,9999)\n",
    "print(otp)"
   ]
  },
  {
   "cell_type": "code",
   "execution_count": 3,
   "id": "e83eebea",
   "metadata": {},
   "outputs": [
    {
     "name": "stdout",
     "output_type": "stream",
     "text": [
      "692744\n"
     ]
    }
   ],
   "source": [
    "import random\n",
    "otp = random.randrange(100000, 999999)\n",
    "print(otp)"
   ]
  },
  {
   "cell_type": "code",
   "execution_count": 3,
   "id": "19cb06d9",
   "metadata": {},
   "outputs": [
    {
     "name": "stdout",
     "output_type": "stream",
     "text": [
      "985759\n"
     ]
    }
   ],
   "source": [
    "import random\n",
    "otp = random.randrange(100000, 999999)\n",
    "print(otp)"
   ]
  },
  {
   "cell_type": "code",
   "execution_count": null,
   "id": "c9b84498",
   "metadata": {},
   "outputs": [],
   "source": [
    "user = int(input('enter OTP : ' ))\n",
    "if user == otp:\n",
    "    print('access granted')\n",
    "else:\n",
    "    print('try again')"
   ]
  },
  {
   "cell_type": "code",
   "execution_count": 11,
   "id": "2a645b99",
   "metadata": {},
   "outputs": [
    {
     "name": "stdout",
     "output_type": "stream",
     "text": [
      "278467\n",
      "enter OTP : 278467\n",
      "otp verified successfully \n",
      "enter OTP : 25541\n",
      "entered otp is wrong. try again \n",
      "enter OTP : 5544\n",
      "entered otp is wrong. try again \n",
      "enter OTP : 54411\n",
      "entered otp is wrong. try again \n",
      "attempt exceeded\n"
     ]
    }
   ],
   "source": [
    "import random\n",
    "otp = random.randrange(100000, 999999)\n",
    "print(otp)\n",
    "x = 0\n",
    "while x<3:\n",
    "    user = int(input('enter OTP : '))\n",
    "    if user == otp:\n",
    "        print('otp verified successfully ')\n",
    "    else:\n",
    "        print('entered otp is wrong. try again ')\n",
    "        x = x+1\n",
    "    if x>2:\n",
    "        print('attempt exceeded')"
   ]
  },
  {
   "cell_type": "code",
   "execution_count": 1,
   "id": "380f6788",
   "metadata": {},
   "outputs": [
    {
     "name": "stdout",
     "output_type": "stream",
     "text": [
      "470467\n",
      "enter OTP : 470467\n",
      "otp verified successfully \n",
      "enter OTP : 470467\n",
      "otp verified successfully \n",
      "enter OTP : 470468\n",
      "entered otp is wrong. try again \n",
      "enter OTP : 541644\n",
      "entered otp is wrong. try again \n",
      "enter OTP : 5555541\n",
      "entered otp is wrong. try again \n",
      "attempt exceeded\n"
     ]
    }
   ],
   "source": [
    "import random\n",
    "otp = random.randrange(100000, 999999)\n",
    "print(otp)\n",
    "x = 0\n",
    "while x<3:\n",
    "    user = int(input('enter OTP : '))\n",
    "    if user == otp:\n",
    "        print('otp verified successfully ')\n",
    "    else:\n",
    "        print('entered otp is wrong. try again ')\n",
    "        x = x+1\n",
    "    if x>2:\n",
    "        print('attempt exceeded')"
   ]
  },
  {
   "cell_type": "code",
   "execution_count": null,
   "id": "16c5a527",
   "metadata": {},
   "outputs": [],
   "source": []
  }
 ],
 "metadata": {
  "kernelspec": {
   "display_name": "Python 3 (ipykernel)",
   "language": "python",
   "name": "python3"
  },
  "language_info": {
   "codemirror_mode": {
    "name": "ipython",
    "version": 3
   },
   "file_extension": ".py",
   "mimetype": "text/x-python",
   "name": "python",
   "nbconvert_exporter": "python",
   "pygments_lexer": "ipython3",
   "version": "3.11.4"
  }
 },
 "nbformat": 4,
 "nbformat_minor": 5
}
