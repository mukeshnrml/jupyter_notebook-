{
 "cells": [
  {
   "cell_type": "code",
   "execution_count": 1,
   "id": "82d0fecc",
   "metadata": {},
   "outputs": [],
   "source": [
    "def sum(a,b):\n",
    "    print(a+b)"
   ]
  },
  {
   "cell_type": "code",
   "execution_count": 2,
   "id": "89bf6e71",
   "metadata": {},
   "outputs": [
    {
     "name": "stdout",
     "output_type": "stream",
     "text": [
      "17\n"
     ]
    }
   ],
   "source": [
    "sum(8,9)"
   ]
  },
  {
   "cell_type": "code",
   "execution_count": 5,
   "id": "17ca62cf",
   "metadata": {},
   "outputs": [],
   "source": [
    "aa = lambda a,b:print(a+b)"
   ]
  },
  {
   "cell_type": "code",
   "execution_count": 6,
   "id": "42f88080",
   "metadata": {},
   "outputs": [
    {
     "name": "stdout",
     "output_type": "stream",
     "text": [
      "14\n"
     ]
    }
   ],
   "source": [
    "aa(8,6)"
   ]
  },
  {
   "cell_type": "code",
   "execution_count": 9,
   "id": "0baf0af0",
   "metadata": {},
   "outputs": [
    {
     "name": "stdout",
     "output_type": "stream",
     "text": [
      "20\n"
     ]
    }
   ],
   "source": [
    "print((lambda a,b: a+b)(5,15))"
   ]
  },
  {
   "cell_type": "code",
   "execution_count": 10,
   "id": "e15ed1c5",
   "metadata": {},
   "outputs": [
    {
     "name": "stdout",
     "output_type": "stream",
     "text": [
      "64\n"
     ]
    }
   ],
   "source": [
    "def pow(a,b):\n",
    "    print(a**b)\n",
    "    \n",
    "pow(4,3)"
   ]
  },
  {
   "cell_type": "code",
   "execution_count": 13,
   "id": "59202f95",
   "metadata": {},
   "outputs": [
    {
     "name": "stdout",
     "output_type": "stream",
     "text": [
      "64\n"
     ]
    }
   ],
   "source": [
    "print((lambda a,b:a**b)(4,3))"
   ]
  },
  {
   "cell_type": "code",
   "execution_count": 15,
   "id": "3d051fbc",
   "metadata": {},
   "outputs": [],
   "source": [
    "def sum (a,b,c,d,e):\n",
    "    print(a+b-c*d/e)"
   ]
  },
  {
   "cell_type": "code",
   "execution_count": 17,
   "id": "99ee39fc",
   "metadata": {},
   "outputs": [
    {
     "name": "stdout",
     "output_type": "stream",
     "text": [
      "21.0\n"
     ]
    }
   ],
   "source": [
    "sum(22,55,44,56,44)"
   ]
  },
  {
   "cell_type": "code",
   "execution_count": 18,
   "id": "2994c17d",
   "metadata": {},
   "outputs": [
    {
     "name": "stdout",
     "output_type": "stream",
     "text": [
      "64\n"
     ]
    }
   ],
   "source": [
    "def calc(a):print(a**2)\n",
    "    \n",
    "calc(8)"
   ]
  },
  {
   "cell_type": "code",
   "execution_count": 20,
   "id": "0450ff8b",
   "metadata": {},
   "outputs": [
    {
     "name": "stdout",
     "output_type": "stream",
     "text": [
      "81\n"
     ]
    }
   ],
   "source": [
    "print((lambda a:a**2)(9))"
   ]
  },
  {
   "cell_type": "code",
   "execution_count": 28,
   "id": "31e12f00",
   "metadata": {},
   "outputs": [
    {
     "name": "stdout",
     "output_type": "stream",
     "text": [
      "You can not Vote\n",
      "You can Vote\n",
      "You can not Vote\n",
      "You can Vote\n",
      "You can Vote\n",
      "You can not Vote\n",
      "You can not Vote\n"
     ]
    }
   ],
   "source": [
    "age = [6, 87, 12, 45, 27, 17, 10]\n",
    "\n",
    "def voter(a):\n",
    "    if a>=18:\n",
    "        print('You can Vote')\n",
    "    else:\n",
    "        print('You can not Vote')\n",
    "        \n",
    "voters = list(filter(voter,age))"
   ]
  },
  {
   "cell_type": "code",
   "execution_count": 31,
   "id": "7446b497",
   "metadata": {},
   "outputs": [
    {
     "name": "stdout",
     "output_type": "stream",
     "text": [
      "<filter object at 0x00000210C615C940>\n"
     ]
    }
   ],
   "source": [
    "age = [6,8,45,74,15,45,14]\n",
    "voters = filter(lambda a: a<=18, age)\n",
    "print(voters)"
   ]
  },
  {
   "cell_type": "code",
   "execution_count": 32,
   "id": "5e5842d9",
   "metadata": {},
   "outputs": [
    {
     "name": "stdout",
     "output_type": "stream",
     "text": [
      "6\n",
      "8\n",
      "15\n",
      "14\n"
     ]
    }
   ],
   "source": [
    "for x in voters:print(x)"
   ]
  },
  {
   "cell_type": "code",
   "execution_count": 35,
   "id": "e6fb58e6",
   "metadata": {},
   "outputs": [],
   "source": [
    "nsti = ['ALD', 'DDN','MUM','KNP','JUD','PAT']\n",
    "\n",
    "def nrml(a):\n",
    "    if a == 'ALD' or a=='PAT' or a=='KNP' or a=='DDN':\n",
    "        print('Allow')\n",
    "    else:\n",
    "        print('Leave')\n",
    "    \n",
    "allowed = filter(nrml,nsti)"
   ]
  },
  {
   "cell_type": "code",
   "execution_count": 36,
   "id": "ea4797b2",
   "metadata": {},
   "outputs": [
    {
     "name": "stdout",
     "output_type": "stream",
     "text": [
      "Allow\n",
      "Allow\n",
      "Leave\n",
      "Allow\n",
      "Leave\n",
      "Allow\n"
     ]
    }
   ],
   "source": [
    "for x in allowed:print(x)"
   ]
  },
  {
   "cell_type": "code",
   "execution_count": 41,
   "id": "834ba722",
   "metadata": {},
   "outputs": [
    {
     "name": "stdout",
     "output_type": "stream",
     "text": [
      "78\n",
      "89\n"
     ]
    }
   ],
   "source": [
    "marks = [52,78,41,54,25,45,11,89]\n",
    "\n",
    "def firstclass(a):\n",
    "        if a>=60 and a<=100:\n",
    "            return True\n",
    "        else:\n",
    "            return False\n",
    "        \n",
    "firstc = filter(firstclass,marks)\n",
    "\n",
    "for x in firstc:print(x)"
   ]
  },
  {
   "cell_type": "code",
   "execution_count": 44,
   "id": "d4a31252",
   "metadata": {},
   "outputs": [
    {
     "name": "stdout",
     "output_type": "stream",
     "text": [
      "2\n",
      "6\n",
      "56\n",
      "24\n",
      "242\n"
     ]
    }
   ],
   "source": [
    "a = [1,2,3,6,33,56,24,242,]\n",
    "even = list(filter(lambda a:a%2==0, a))\n",
    "for c in even:print(c)"
   ]
  },
  {
   "cell_type": "code",
   "execution_count": 45,
   "id": "f5e49f62",
   "metadata": {},
   "outputs": [
    {
     "name": "stdout",
     "output_type": "stream",
     "text": [
      "u r voter\n",
      "u r voter\n",
      "u r voter\n",
      "[None, None, None]\n"
     ]
    }
   ],
   "source": [
    "age = [7, 19, 14, 26, 75, 13]\n",
    "voter = filter(lambda a: a>=18, age)\n",
    "remark = list(map(lambda b : print('u r voter'), voter))\n",
    "print(remark)"
   ]
  },
  {
   "cell_type": "code",
   "execution_count": 49,
   "id": "d6fafea5",
   "metadata": {},
   "outputs": [
    {
     "name": "stdout",
     "output_type": "stream",
     "text": [
      "(1, 4, 9, 16)\n"
     ]
    }
   ],
   "source": [
    "def sq(num1):\n",
    "    return num1*num1\n",
    "\n",
    "number = 1,2,3,4\n",
    "\n",
    "result = tuple(map(sq,number))\n",
    "print(result)"
   ]
  },
  {
   "cell_type": "code",
   "execution_count": null,
   "id": "66fa68af",
   "metadata": {},
   "outputs": [],
   "source": []
  }
 ],
 "metadata": {
  "kernelspec": {
   "display_name": "Python 3 (ipykernel)",
   "language": "python",
   "name": "python3"
  },
  "language_info": {
   "codemirror_mode": {
    "name": "ipython",
    "version": 3
   },
   "file_extension": ".py",
   "mimetype": "text/x-python",
   "name": "python",
   "nbconvert_exporter": "python",
   "pygments_lexer": "ipython3",
   "version": "3.11.4"
  }
 },
 "nbformat": 4,
 "nbformat_minor": 5
}
