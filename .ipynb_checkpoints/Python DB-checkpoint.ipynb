{
 "cells": [
  {
   "cell_type": "markdown",
   "id": "938e6f62",
   "metadata": {},
   "source": [
    "# Database Connection "
   ]
  },
  {
   "cell_type": "code",
   "execution_count": null,
   "id": "f6ea2b3d",
   "metadata": {},
   "outputs": [],
   "source": [
    "pip install mysql-connector-python"
   ]
  },
  {
   "cell_type": "code",
   "execution_count": 3,
   "id": "9d43c676",
   "metadata": {},
   "outputs": [
    {
     "name": "stdout",
     "output_type": "stream",
     "text": [
      "<mysql.connector.connection_cext.CMySQLConnection object at 0x0000012BD61581D0>\n"
     ]
    }
   ],
   "source": [
    "# Database Connection\n",
    "\n",
    "import mysql.connector as ms\n",
    "\n",
    "dbs = ms.connect(host='localhost',user='root',password='')\n",
    "print(dbs)"
   ]
  },
  {
   "cell_type": "code",
   "execution_count": 5,
   "id": "df8ccda8",
   "metadata": {},
   "outputs": [
    {
     "name": "stdout",
     "output_type": "stream",
     "text": [
      "Succesfully created\n"
     ]
    }
   ],
   "source": [
    "# Create Database\n",
    "\n",
    "import mysql.connector as ms\n",
    "\n",
    "dbs = ms.connect(host='localhost',user='root',password='')\n",
    "\n",
    "mydbs = dbs.cursor()\n",
    "mydbs.execute('create database python')\n",
    "print('Succesfully created')"
   ]
  },
  {
   "cell_type": "code",
   "execution_count": 10,
   "id": "cada472d",
   "metadata": {},
   "outputs": [
    {
     "name": "stdout",
     "output_type": "stream",
     "text": [
      "('adit',)\n",
      "('crud',)\n",
      "('csa',)\n",
      "('dgt',)\n",
      "('form',)\n",
      "('information_schema',)\n",
      "('mukesh',)\n",
      "('mysql',)\n",
      "('nsti',)\n",
      "('performance_schema',)\n",
      "('phpmyadmin',)\n",
      "('practical',)\n",
      "('python',)\n",
      "('ses',)\n",
      "('swati',)\n",
      "('test',)\n"
     ]
    }
   ],
   "source": [
    "# Show Database\n",
    "\n",
    "import mysql.connector as ms\n",
    "\n",
    "dbs = ms.connect(host='localhost',user='root',password='')\n",
    "\n",
    "mydbs = dbs.cursor()\n",
    "mydbs.execute('show databases')\n",
    "\n",
    "for x in mydbs:print(x)"
   ]
  },
  {
   "cell_type": "code",
   "execution_count": 23,
   "id": "1456cb45",
   "metadata": {},
   "outputs": [],
   "source": [
    "# show table\n",
    "\n",
    "import mysql.connector as ms\n",
    "\n",
    "dbs = ms.connect(host='localhost',user='root',password='',database='python')\n",
    "mydbs = dbs.cursor()\n",
    "mydbs.execute('show tables')\n",
    "\n",
    "for x in mydbs:print(x)\n",
    "\n"
   ]
  },
  {
   "cell_type": "code",
   "execution_count": 24,
   "id": "2d86b181",
   "metadata": {},
   "outputs": [
    {
     "name": "stdout",
     "output_type": "stream",
     "text": [
      "table created succesfully\n"
     ]
    }
   ],
   "source": [
    "# Create table\n",
    "\n",
    "import mysql.connector as ms\n",
    "\n",
    "dbs = ms.connect(host='localhost',user='root',password='',database='python')\n",
    "mydbs = dbs.cursor()\n",
    "\n",
    "mydbs.execute('create table student(roll int auto_increment primary key, name varchar(40), phone varchar(40))')\n",
    "print('table created succesfully')"
   ]
  },
  {
   "cell_type": "code",
   "execution_count": 26,
   "id": "60fa8964",
   "metadata": {},
   "outputs": [
    {
     "name": "stdout",
     "output_type": "stream",
     "text": [
      "Succesfully Added\n"
     ]
    }
   ],
   "source": [
    "# Add Column\n",
    "\n",
    "import mysql.connector as ms\n",
    "\n",
    "dbs = ms.connect(host='localhost',user='root',password='',database='python')\n",
    "mydbs = dbs.cursor()\n",
    "\n",
    "mydbs.execute('alter table student add column aadhar varchar(12)')\n",
    "print('Succesfully Added')"
   ]
  },
  {
   "cell_type": "code",
   "execution_count": 27,
   "id": "0ac112f8",
   "metadata": {},
   "outputs": [
    {
     "name": "stdout",
     "output_type": "stream",
     "text": [
      "Table created succesfully\n"
     ]
    }
   ],
   "source": [
    "# Create table (Second Methord)\n",
    "\n",
    "import mysql.connector as ms\n",
    "\n",
    "dbs = ms.connect(host='localhost',user='root',password='',database='python')\n",
    "mydbs = dbs.cursor()\n",
    "mydbs.execute('create table nsti(name varchar(40),age int,email varchar(40))')\n",
    "print('Table created succesfully')"
   ]
  },
  {
   "cell_type": "code",
   "execution_count": 36,
   "id": "01f668de",
   "metadata": {},
   "outputs": [
    {
     "name": "stdout",
     "output_type": "stream",
     "text": [
      "Data inserted succesfully\n"
     ]
    }
   ],
   "source": [
    "# Data Insert\n",
    "\n",
    "import mysql.connector as ms\n",
    "\n",
    "dbs = ms.connect(host='localhost',user='root',password='',database='python')\n",
    "mydbs = dbs.cursor()\n",
    "a = 'insert into nsti(name, age, email) values(%s,%s,%s)'\n",
    "b = ('Mukesh', 22,'mukesh@outlook.com')\n",
    "mydbs.execute(a, b)\n",
    "dbs.commit()\n",
    "\n",
    "print('Data inserted succesfully')"
   ]
  },
  {
   "cell_type": "code",
   "execution_count": 4,
   "id": "c1daaa14",
   "metadata": {},
   "outputs": [
    {
     "name": "stdout",
     "output_type": "stream",
     "text": [
      "Succesfully done\n"
     ]
    }
   ],
   "source": [
    "import mysql.connector as ms\n",
    "\n",
    "dbs = ms.connect(host='localhost',user='root',password='',database='python')\n",
    "mydbs = dbs.cursor()\n",
    "a = 'insert into nsti(name, age, email) values(%s,%s,%s)'\n",
    "c = [('Nirmal',19,'nirmal@mail.com'),('Chhabili',23,'chh@maul.com'),('Raju',21,'r@mail.com')]\n",
    "mydbs.executemany(a,c)\n",
    "\n",
    "dbs.commit()\n",
    "print('Succesfully done')"
   ]
  },
  {
   "cell_type": "code",
   "execution_count": 5,
   "id": "b46098f8",
   "metadata": {},
   "outputs": [
    {
     "name": "stdout",
     "output_type": "stream",
     "text": [
      "enter your nameOm\n",
      "enter your age30\n",
      "enter your emailom@mail.com\n",
      "Added Succesfully\n",
      "1 -> Enter more data \n",
      " 2 -> Exit \n",
      " Enter your choice1\n",
      "enter your nameraj\n",
      "enter your age09\n",
      "enter your emailraj@mail.com\n",
      "Added Succesfully\n",
      "1 -> Enter more data \n",
      " 2 -> Exit \n",
      " Enter your choice2\n"
     ]
    }
   ],
   "source": [
    "import mysql.connector as ms\n",
    "\n",
    "dbs = ms.connect(host='localhost',user='root',password='',database='python')\n",
    "mydbs = dbs.cursor()\n",
    "\n",
    "while True:\n",
    "    e = input('enter your name : ')\n",
    "    f = input('enter your age : ')\n",
    "    g = input('enter your email : ')\n",
    "\n",
    "    query = \"insert into nsti values('{}','{}','{}')\".format(e,f,g)\n",
    "    mydbs.execute(query)\n",
    "    dbs.commit()\n",
    "    \n",
    "    print('Added Succesfully')\n",
    "    \n",
    "    x = int(input('1 -> Enter more data \\n 2 -> Exit \\n Enter your choice'))\n",
    "    if x == 2:\n",
    "        break"
   ]
  },
  {
   "cell_type": "code",
   "execution_count": null,
   "id": "e28675de",
   "metadata": {},
   "outputs": [],
   "source": [
    "query = 'Select * from nsti'\n",
    "mydbs.execute(query)\n",
    "\n"
   ]
  }
 ],
 "metadata": {
  "kernelspec": {
   "display_name": "Python 3 (ipykernel)",
   "language": "python",
   "name": "python3"
  },
  "language_info": {
   "codemirror_mode": {
    "name": "ipython",
    "version": 3
   },
   "file_extension": ".py",
   "mimetype": "text/x-python",
   "name": "python",
   "nbconvert_exporter": "python",
   "pygments_lexer": "ipython3",
   "version": "3.11.4"
  }
 },
 "nbformat": 4,
 "nbformat_minor": 5
}
