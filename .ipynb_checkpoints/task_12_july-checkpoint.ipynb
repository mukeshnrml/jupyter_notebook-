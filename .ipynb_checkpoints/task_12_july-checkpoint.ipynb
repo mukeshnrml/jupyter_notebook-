{
 "cells": [
  {
   "cell_type": "code",
   "execution_count": 4,
   "id": "e764d9d4",
   "metadata": {},
   "outputs": [
    {
     "name": "stdout",
     "output_type": "stream",
     "text": [
      "False\n",
      "True\n"
     ]
    }
   ],
   "source": [
    "a = 'this is nsti dehradun'\n",
    "b = 'ADIT'\n",
    "print(a.isupper())\n",
    "print(b.isupper())"
   ]
  },
  {
   "cell_type": "code",
   "execution_count": 6,
   "id": "37b0b53c",
   "metadata": {},
   "outputs": [
    {
     "name": "stdout",
     "output_type": "stream",
     "text": [
      "True\n",
      "False\n"
     ]
    }
   ],
   "source": [
    "a = 'this is nsti dehradun'\n",
    "b = 'ADIT'\n",
    "print(a.islower())\n",
    "print(b.islower())"
   ]
  },
  {
   "cell_type": "code",
   "execution_count": 16,
   "id": "48fa871f",
   "metadata": {},
   "outputs": [
    {
     "name": "stdout",
     "output_type": "stream",
     "text": [
      "True\n",
      "False\n"
     ]
    }
   ],
   "source": [
    "a = '75544'\n",
    "b = 'Advance Diploma'\n",
    "print(a.isnumeric())\n",
    "print(b.isnumeric())"
   ]
  },
  {
   "cell_type": "code",
   "execution_count": 23,
   "id": "cd58bbc3",
   "metadata": {},
   "outputs": [
    {
     "name": "stdout",
     "output_type": "stream",
     "text": [
      "True\n",
      "False\n"
     ]
    }
   ],
   "source": [
    "a = \"AdvancE\"\n",
    "b = \"Advance 10\"\n",
    "print(a.isalpha())\n",
    "print(b.isalpha())"
   ]
  },
  {
   "cell_type": "code",
   "execution_count": 25,
   "id": "2a0a6c97",
   "metadata": {},
   "outputs": [
    {
     "name": "stdout",
     "output_type": "stream",
     "text": [
      "True\n",
      "False\n"
     ]
    }
   ],
   "source": [
    "a = '4515412' \n",
    "b = 'ADIT'\n",
    "print(a.isdigit())\n",
    "print(b.isdigit())"
   ]
  },
  {
   "cell_type": "code",
   "execution_count": 30,
   "id": "f4dbeb71",
   "metadata": {},
   "outputs": [
    {
     "name": "stdout",
     "output_type": "stream",
     "text": [
      "False\n",
      "False\n"
     ]
    }
   ],
   "source": [
    "a = ' '\n",
    "b = ''\n",
    "print(a.isspace())\n",
    "print(b.isspace())"
   ]
  },
  {
   "cell_type": "code",
   "execution_count": 36,
   "id": "fb6dee38",
   "metadata": {},
   "outputs": [
    {
     "name": "stdout",
     "output_type": "stream",
     "text": [
      "False\n",
      "True\n"
     ]
    }
   ],
   "source": [
    "a = 'This is ADIT Class'\n",
    "b = 'Hello 22'\n",
    "print(a.istitle())\n",
    "print(b.istitle())"
   ]
  },
  {
   "cell_type": "code",
   "execution_count": 38,
   "id": "4787c212",
   "metadata": {},
   "outputs": [
    {
     "name": "stdout",
     "output_type": "stream",
     "text": [
      "This Is Csa Class\n"
     ]
    }
   ],
   "source": [
    "#Title\n",
    "\n",
    "a= 'This is CSA class'\n",
    "print(a.title())"
   ]
  },
  {
   "cell_type": "code",
   "execution_count": 46,
   "id": "3a1fcf07",
   "metadata": {},
   "outputs": [
    {
     "name": "stdout",
     "output_type": "stream",
     "text": [
      "True\n",
      "False\n"
     ]
    }
   ],
   "source": [
    "# Endwith\n",
    "\n",
    "a = 'Mukesh Nirmal.'\n",
    "print(a.endswith(\"Nirmal.\"))\n",
    "print(a.endswith(\"mkn\"))"
   ]
  },
  {
   "cell_type": "code",
   "execution_count": 51,
   "id": "359e1e0b",
   "metadata": {},
   "outputs": [
    {
     "name": "stdout",
     "output_type": "stream",
     "text": [
      "False\n",
      "True\n"
     ]
    }
   ],
   "source": [
    "# startwith\n",
    "\n",
    "a = \"Python is easy to learn.\"\n",
    "\n",
    "b = a.startswith('is easy')\n",
    "print(b)\n",
    "\n",
    "b = a.startswith('Python is ')\n",
    "print(b)\n"
   ]
  },
  {
   "cell_type": "code",
   "execution_count": 56,
   "id": "b0b4286c",
   "metadata": {},
   "outputs": [
    {
     "name": "stdout",
     "output_type": "stream",
     "text": [
      "7\n"
     ]
    }
   ],
   "source": [
    "# Find\n",
    "\n",
    "a = \"Hello, welcome to my class.\"\n",
    "print(a.find('welcome'))"
   ]
  },
  {
   "cell_type": "code",
   "execution_count": 58,
   "id": "3efb1fd0",
   "metadata": {},
   "outputs": [
    {
     "name": "stdout",
     "output_type": "stream",
     "text": [
      "18\n"
     ]
    }
   ],
   "source": [
    "# rfind\n",
    "\n",
    "a = \"Hello, welcome to my class.\"\n",
    "print(a.rfind('my'))"
   ]
  },
  {
   "cell_type": "code",
   "execution_count": 60,
   "id": "cf3fb854",
   "metadata": {},
   "outputs": [
    {
     "name": "stdout",
     "output_type": "stream",
     "text": [
      "2\n"
     ]
    }
   ],
   "source": [
    "a = 'DDN', 'KNP', 'ALD', 'JOD'\n",
    "print(a.index('ALD'))"
   ]
  },
  {
   "cell_type": "code",
   "execution_count": 64,
   "id": "e8e9e544",
   "metadata": {},
   "outputs": [
    {
     "name": "stdout",
     "output_type": "stream",
     "text": [
      "15\n"
     ]
    }
   ],
   "source": [
    "a = \"Hello, welcome to my class.\"\n",
    "print(a.rindex('to'))"
   ]
  },
  {
   "cell_type": "code",
   "execution_count": 1,
   "id": "08673185",
   "metadata": {},
   "outputs": [
    {
     "name": "stdout",
     "output_type": "stream",
     "text": [
      "For only 49.00 dollars!\n"
     ]
    }
   ],
   "source": [
    "txt = \"For only {price:.2f} dollars!\"\n",
    "print(txt.format(price = 49))"
   ]
  },
  {
   "cell_type": "code",
   "execution_count": 2,
   "id": "f48059d6",
   "metadata": {},
   "outputs": [
    {
     "name": "stdout",
     "output_type": "stream",
     "text": [
      "['Welcome', 'to', 'NSTI', 'Dehradun']\n"
     ]
    }
   ],
   "source": [
    "a = 'Welcome to NSTI Dehradun'\n",
    "print(a.split())"
   ]
  },
  {
   "cell_type": "code",
   "execution_count": 1,
   "id": "63080eb1",
   "metadata": {},
   "outputs": [
    {
     "name": "stdout",
     "output_type": "stream",
     "text": [
      "('Welcome to ', 'NSTI', ' Dehradun')\n"
     ]
    }
   ],
   "source": [
    "a = 'Welcome to NSTI Dehradun'\n",
    "print(a.partition('NSTI'))"
   ]
  },
  {
   "cell_type": "code",
   "execution_count": 2,
   "id": "0417e755",
   "metadata": {},
   "outputs": [
    {
     "name": "stdout",
     "output_type": "stream",
     "text": [
      "TradeUKNSTI\n"
     ]
    }
   ],
   "source": [
    "a = {'Trade': 'ADIT', 'NSTI':'DDN'}\n",
    "b = 'UK'\n",
    "c = b.join(a)\n",
    "print(c)"
   ]
  },
  {
   "cell_type": "code",
   "execution_count": 11,
   "id": "c6daa381",
   "metadata": {},
   "outputs": [
    {
     "name": "stdout",
     "output_type": "stream",
     "text": [
      "00000040\n"
     ]
    }
   ],
   "source": [
    "a = '40'\n",
    "print(a.zfill(8))"
   ]
  },
  {
   "cell_type": "code",
   "execution_count": 14,
   "id": "4fe50b5a",
   "metadata": {},
   "outputs": [
    {
     "name": "stdout",
     "output_type": "stream",
     "text": [
      "I am learning programming\n"
     ]
    }
   ],
   "source": [
    "a = 'I am learning coding'\n",
    "print(a.replace('coding','programming'))"
   ]
  },
  {
   "cell_type": "code",
   "execution_count": 19,
   "id": "9ac22d48",
   "metadata": {},
   "outputs": [
    {
     "name": "stdout",
     "output_type": "stream",
     "text": [
      "'My name is \\xf6 mukesh'\n"
     ]
    }
   ],
   "source": [
    "x = ascii(\"My name is ö mukesh\")\n",
    "print(x)\n"
   ]
  },
  {
   "cell_type": "code",
   "execution_count": 21,
   "id": "125b4d1a",
   "metadata": {},
   "outputs": [
    {
     "name": "stdout",
     "output_type": "stream",
     "text": [
      "False\n",
      "True\n"
     ]
    }
   ],
   "source": [
    "a = 'adit2022-24'\n",
    "b = 'adit'\n",
    "print(a.isalnum())\n",
    "print(b.isalnum())"
   ]
  },
  {
   "cell_type": "code",
   "execution_count": 22,
   "id": "b3d2d0b9",
   "metadata": {},
   "outputs": [
    {
     "name": "stdout",
     "output_type": "stream",
     "text": [
      "Computer hardware and network maintence\n"
     ]
    }
   ],
   "source": [
    "a = 'Computer Hardware and Network Maintence'\n",
    "print(a.capitalize())"
   ]
  },
  {
   "cell_type": "code",
   "execution_count": 1,
   "id": "14db1f3a",
   "metadata": {},
   "outputs": [
    {
     "data": {
      "text/html": [
       "\n",
       "        <iframe\n",
       "            width=\"800\"\n",
       "            height=\"550\"\n",
       "            src=\"https://drawdata.xyz/scatter.html\"\n",
       "            frameborder=\"0\"\n",
       "            allowfullscreen\n",
       "            \n",
       "        ></iframe>\n",
       "        "
      ],
      "text/plain": [
       "<IPython.lib.display.IFrame at 0x144d921d710>"
      ]
     },
     "execution_count": 1,
     "metadata": {},
     "output_type": "execute_result"
    }
   ],
   "source": [
    "from drawdata import draw_scatter\n",
    "draw_scatter()"
   ]
  },
  {
   "cell_type": "markdown",
   "id": "e283b375",
   "metadata": {},
   "source": [
    "# 20_ July"
   ]
  },
  {
   "cell_type": "code",
   "execution_count": 8,
   "id": "d19c8d3b",
   "metadata": {},
   "outputs": [
    {
     "name": "stdout",
     "output_type": "stream",
     "text": [
      "outlook.com\n"
     ]
    }
   ],
   "source": [
    "a  = 'mukeshnirmal@outlook.com'\n",
    "print(a[13:25])"
   ]
  },
  {
   "cell_type": "code",
   "execution_count": 17,
   "id": "6a87f284",
   "metadata": {},
   "outputs": [
    {
     "name": "stdout",
     "output_type": "stream",
     "text": [
      "\n",
      "\n",
      "[1, 3, 5]\n",
      "[2, 4, 6]\n"
     ]
    }
   ],
   "source": [
    "m = [[1,2],[3,4],[5,6]]\n",
    "# for row in m :\n",
    "#     print(row)\n",
    "n = [[m[j][i] for j in range(len(m))] for i in range(len(m[0]))]\n",
    "# print(\"\\n\")\n",
    "for row in n:\n",
    "    print(row)\n"
   ]
  },
  {
   "cell_type": "code",
   "execution_count": 16,
   "id": "4f8598a7",
   "metadata": {},
   "outputs": [
    {
     "name": "stdout",
     "output_type": "stream",
     "text": [
      "[[1, 3, 5], [2, 4, 6]]\n"
     ]
    }
   ],
   "source": [
    "import numpy as nm\n",
    "m = [[1,2],[3,4],[5,6]]\n",
    "n = nm.array(m).T.tolist()\n",
    "print(n)"
   ]
  },
  {
   "cell_type": "code",
   "execution_count": null,
   "id": "4624f309",
   "metadata": {},
   "outputs": [],
   "source": []
  }
 ],
 "metadata": {
  "kernelspec": {
   "display_name": "Python 3 (ipykernel)",
   "language": "python",
   "name": "python3"
  },
  "language_info": {
   "codemirror_mode": {
    "name": "ipython",
    "version": 3
   },
   "file_extension": ".py",
   "mimetype": "text/x-python",
   "name": "python",
   "nbconvert_exporter": "python",
   "pygments_lexer": "ipython3",
   "version": "3.11.4"
  }
 },
 "nbformat": 4,
 "nbformat_minor": 5
}
