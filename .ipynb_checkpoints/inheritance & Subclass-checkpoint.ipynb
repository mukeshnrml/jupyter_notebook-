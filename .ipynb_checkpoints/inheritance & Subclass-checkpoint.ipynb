{
 "cells": [
  {
   "cell_type": "code",
   "execution_count": 33,
   "id": "5762402f",
   "metadata": {},
   "outputs": [],
   "source": [
    "class ADIT:\n",
    "    def __init__(self, name, age, phone, location):\n",
    "        self.name = name\n",
    "        self.age = age\n",
    "        self.phone = phone\n",
    "        self.location = location\n",
    "        self.email = name+'.'+location+'@gmail.com'\n",
    "        self.stipend = 3000\n",
    "    def increment(self):\n",
    "        self.stipend = self.stipend*0.15+self.stipend"
   ]
  },
  {
   "cell_type": "code",
   "execution_count": 34,
   "id": "c8086958",
   "metadata": {},
   "outputs": [],
   "source": [
    "class Web(ADIT):\n",
    "    pass"
   ]
  },
  {
   "cell_type": "code",
   "execution_count": 35,
   "id": "f30267d6",
   "metadata": {},
   "outputs": [],
   "source": [
    "class Network(ADIT):\n",
    "    pass"
   ]
  },
  {
   "cell_type": "code",
   "execution_count": 36,
   "id": "9d6a8fca",
   "metadata": {},
   "outputs": [],
   "source": [
    "class Cloud(ADIT):\n",
    "    pass"
   ]
  },
  {
   "cell_type": "code",
   "execution_count": 37,
   "id": "8047630f",
   "metadata": {},
   "outputs": [],
   "source": [
    "Mukesh = Cloud('Mukesh',19, 8948982000, 'Dehradun')\n",
    "Bhagwan = Web ('Bhagwan',20,894885445,'Ludhiana')\n",
    "Aman = Network('Aman',49,45844555,'Bijanaur')"
   ]
  },
  {
   "cell_type": "code",
   "execution_count": 38,
   "id": "c007a40b",
   "metadata": {},
   "outputs": [],
   "source": [
    "Aman.increment()"
   ]
  },
  {
   "cell_type": "code",
   "execution_count": 39,
   "id": "09074d6a",
   "metadata": {},
   "outputs": [
    {
     "data": {
      "text/plain": [
       "3450.0"
      ]
     },
     "execution_count": 39,
     "metadata": {},
     "output_type": "execute_result"
    }
   ],
   "source": [
    "Aman.stipend"
   ]
  },
  {
   "cell_type": "code",
   "execution_count": null,
   "id": "822a433e",
   "metadata": {},
   "outputs": [],
   "source": []
  }
 ],
 "metadata": {
  "kernelspec": {
   "display_name": "Python 3 (ipykernel)",
   "language": "python",
   "name": "python3"
  },
  "language_info": {
   "codemirror_mode": {
    "name": "ipython",
    "version": 3
   },
   "file_extension": ".py",
   "mimetype": "text/x-python",
   "name": "python",
   "nbconvert_exporter": "python",
   "pygments_lexer": "ipython3",
   "version": "3.11.4"
  }
 },
 "nbformat": 4,
 "nbformat_minor": 5
}
