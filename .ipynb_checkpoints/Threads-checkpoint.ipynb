{
 "cells": [
  {
   "cell_type": "markdown",
   "id": "55503a36",
   "metadata": {},
   "source": [
    "# Threads"
   ]
  },
  {
   "cell_type": "code",
   "execution_count": 11,
   "id": "f9e4ecf1",
   "metadata": {},
   "outputs": [],
   "source": [
    "class adit():\n",
    "    def abc(self):\n",
    "        for i in range (5):\n",
    "            print('DDN')\n",
    "    def bcd(self):\n",
    "        for i in range(5):\n",
    "            print('ALD')"
   ]
  },
  {
   "cell_type": "code",
   "execution_count": 12,
   "id": "770ba43c",
   "metadata": {},
   "outputs": [],
   "source": [
    "a1 = adit\n",
    "b1 = adit"
   ]
  },
  {
   "cell_type": "code",
   "execution_count": 13,
   "id": "8a9bc489",
   "metadata": {},
   "outputs": [
    {
     "name": "stdout",
     "output_type": "stream",
     "text": [
      "DDN\n",
      "DDN\n",
      "DDN\n",
      "DDN\n",
      "DDN\n",
      "ALD\n",
      "ALD\n",
      "ALD\n",
      "ALD\n",
      "ALD\n"
     ]
    }
   ],
   "source": [
    "a1.abc('h')\n",
    "b1.bcd('a')"
   ]
  },
  {
   "cell_type": "code",
   "execution_count": 22,
   "id": "642ed3ce",
   "metadata": {},
   "outputs": [
    {
     "name": "stdout",
     "output_type": "stream",
     "text": [
      "ALD\n",
      "ALD\n",
      "ALD\n",
      "ALD\n",
      "ALD\n",
      "DDN\n",
      "DDN\n",
      "DDN\n",
      "DDN\n",
      "DDN\n"
     ]
    }
   ],
   "source": [
    "from time import sleep\n",
    "\n",
    "\n",
    "class A:\n",
    "    def run(self):\n",
    "        for i in range(5):\n",
    "            print('ALD')\n",
    "            sleep(1)\n",
    "            \n",
    "class B:\n",
    "    def run(self):\n",
    "        for i in range(5):\n",
    "            print('DDN')\n",
    "            sleep(1)\n",
    "            \n",
    "a1 = A()\n",
    "b1 = B()\n",
    "\n",
    "a1.run()\n",
    "b1.run()\n",
    "\n"
   ]
  },
  {
   "cell_type": "code",
   "execution_count": null,
   "id": "d0210759",
   "metadata": {},
   "outputs": [],
   "source": []
  }
 ],
 "metadata": {
  "kernelspec": {
   "display_name": "Python 3 (ipykernel)",
   "language": "python",
   "name": "python3"
  },
  "language_info": {
   "codemirror_mode": {
    "name": "ipython",
    "version": 3
   },
   "file_extension": ".py",
   "mimetype": "text/x-python",
   "name": "python",
   "nbconvert_exporter": "python",
   "pygments_lexer": "ipython3",
   "version": "3.11.4"
  }
 },
 "nbformat": 4,
 "nbformat_minor": 5
}
