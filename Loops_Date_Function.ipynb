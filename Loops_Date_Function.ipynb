{
 "cells": [
  {
   "cell_type": "code",
   "execution_count": 1,
   "id": "bfce5ed2",
   "metadata": {},
   "outputs": [
    {
     "name": "stdout",
     "output_type": "stream",
     "text": [
      "M\n",
      "u\n",
      "k\n",
      "e\n",
      "s\n",
      "h\n"
     ]
    }
   ],
   "source": [
    "for a in 'Mukesh' :print(a)"
   ]
  },
  {
   "cell_type": "code",
   "execution_count": 2,
   "id": "15d4a97b",
   "metadata": {},
   "outputs": [
    {
     "name": "stdout",
     "output_type": "stream",
     "text": [
      "1\n",
      "Mukesh\n",
      "DDN\n",
      "HTML\n",
      "55\n"
     ]
    }
   ],
   "source": [
    "a = [1, 'Mukesh','DDN','HTML',55]\n",
    "for b in a:print(b)"
   ]
  },
  {
   "cell_type": "code",
   "execution_count": 4,
   "id": "bc968c37",
   "metadata": {},
   "outputs": [
    {
     "name": "stdout",
     "output_type": "stream",
     "text": [
      "HTML\n",
      "20.2\n",
      "JS\n",
      "DDN\n"
     ]
    }
   ],
   "source": [
    "c = ('HTML',20.2, 'JS','DDN')\n",
    "for i in c:print(i)"
   ]
  },
  {
   "cell_type": "code",
   "execution_count": 5,
   "id": "139a4f0c",
   "metadata": {},
   "outputs": [
    {
     "name": "stdout",
     "output_type": "stream",
     "text": [
      "2\n",
      "DDN\n",
      "5\n",
      "Nirmal\n"
     ]
    }
   ],
   "source": [
    "d = {2,5,'Nirmal','DDN'}\n",
    "for i in d:print(i)"
   ]
  },
  {
   "cell_type": "code",
   "execution_count": 6,
   "id": "270d4a76",
   "metadata": {},
   "outputs": [
    {
     "data": {
      "text/plain": [
       "5"
      ]
     },
     "execution_count": 6,
     "metadata": {},
     "output_type": "execute_result"
    }
   ],
   "source": [
    "a = [5,'NRML',True,8,'Mukesh']\n",
    "len(a)"
   ]
  },
  {
   "cell_type": "code",
   "execution_count": 15,
   "id": "7032becd",
   "metadata": {},
   "outputs": [
    {
     "name": "stdout",
     "output_type": "stream",
     "text": [
      "['5', 'Mukesh', True, 8.5]\n",
      "<class 'list'>\n"
     ]
    },
    {
     "data": {
      "text/plain": [
       "'Mukesh'"
      ]
     },
     "execution_count": 15,
     "metadata": {},
     "output_type": "execute_result"
    }
   ],
   "source": [
    "# List constructor\n",
    "\n",
    "a = list(('5','Mukesh',True,8.5))\n",
    "print(a)\n",
    "print(type(a))\n",
    "a[-3]  #indexing"
   ]
  },
  {
   "cell_type": "code",
   "execution_count": 17,
   "id": "4c2de3fe",
   "metadata": {},
   "outputs": [],
   "source": [
    "a.append(True)"
   ]
  },
  {
   "cell_type": "code",
   "execution_count": 22,
   "id": "414800ae",
   "metadata": {},
   "outputs": [
    {
     "data": {
      "text/plain": [
       "'Nirmal'"
      ]
     },
     "execution_count": 22,
     "metadata": {},
     "output_type": "execute_result"
    }
   ],
   "source": [
    "g = ('Mukesh','Nirmal')\n",
    "g[1]"
   ]
  },
  {
   "cell_type": "markdown",
   "id": "f89a407e",
   "metadata": {},
   "source": [
    "Unione"
   ]
  },
  {
   "cell_type": "code",
   "execution_count": 28,
   "id": "639f6d74",
   "metadata": {},
   "outputs": [
    {
     "data": {
      "text/plain": [
       "{1, 2, 4, 5, 6, 7, 8, 47, 48, 55, 78}"
      ]
     },
     "execution_count": 28,
     "metadata": {},
     "output_type": "execute_result"
    }
   ],
   "source": [
    "a = {1,55,78,5,48,1,4,6,}\n",
    "b = {5,8,4,6,5,7,55,47,2}\n",
    "a|b"
   ]
  },
  {
   "cell_type": "markdown",
   "id": "0957df62",
   "metadata": {},
   "source": [
    "# Nested Loop"
   ]
  },
  {
   "cell_type": "code",
   "execution_count": 41,
   "id": "e3c2e56c",
   "metadata": {},
   "outputs": [
    {
     "name": "stdout",
     "output_type": "stream",
     "text": [
      "\n",
      "0\n",
      "01\n",
      "012\n",
      "0123\n",
      "01234\n"
     ]
    }
   ],
   "source": [
    "for a in range(6):\n",
    "    for b in range(a):\n",
    "        print(b, end='')\n",
    "    print('')"
   ]
  },
  {
   "cell_type": "code",
   "execution_count": 38,
   "id": "22a35d1a",
   "metadata": {},
   "outputs": [
    {
     "name": "stdout",
     "output_type": "stream",
     "text": [
      "\n",
      "*\n",
      "**\n",
      "***\n",
      "****\n",
      "*****\n",
      "******\n",
      "*******\n",
      "********\n",
      "*********\n",
      "**********\n"
     ]
    }
   ],
   "source": [
    "for a in range(11):\n",
    "    for b in range(a):\n",
    "        print('*',end='')\n",
    "    print('')"
   ]
  },
  {
   "cell_type": "code",
   "execution_count": 45,
   "id": "aa3be2a9",
   "metadata": {},
   "outputs": [
    {
     "name": "stdout",
     "output_type": "stream",
     "text": [
      "54321\n",
      "5432\n",
      "543\n",
      "54\n",
      "5\n"
     ]
    }
   ],
   "source": [
    "a = 1\n",
    "while(a<=5):\n",
    "    b=5\n",
    "    while(b>=a):\n",
    "        print(b, end='')\n",
    "        b-=1\n",
    "    a+=1\n",
    "    print('')"
   ]
  },
  {
   "cell_type": "code",
   "execution_count": 2,
   "id": "95194a46",
   "metadata": {},
   "outputs": [],
   "source": [
    "#import module/library as var\n",
    "#import class from module/library\n",
    "\n",
    "import datetime"
   ]
  },
  {
   "cell_type": "code",
   "execution_count": 3,
   "id": "ff3706c4",
   "metadata": {},
   "outputs": [
    {
     "name": "stdout",
     "output_type": "stream",
     "text": [
      "2023-07-11 14:46:03.475895\n"
     ]
    }
   ],
   "source": [
    "a = datetime.datetime.now()\n",
    "print(a)"
   ]
  },
  {
   "cell_type": "code",
   "execution_count": 17,
   "id": "735a552d",
   "metadata": {},
   "outputs": [
    {
     "name": "stdout",
     "output_type": "stream",
     "text": [
      "2023-04-30\n",
      "2023-07-11\n",
      "2141-08-11\n"
     ]
    }
   ],
   "source": [
    "from datetime import date \n",
    "a = date(2023,4, 30)\n",
    "print(a)\n",
    "print(date.today())\n",
    "b = date.fromtimestamp(5415452641)\n",
    "print(b)"
   ]
  },
  {
   "cell_type": "code",
   "execution_count": 19,
   "id": "4e04cf1e",
   "metadata": {},
   "outputs": [
    {
     "name": "stdout",
     "output_type": "stream",
     "text": [
      "2023-07-11\n"
     ]
    }
   ],
   "source": [
    "a = date.today()"
   ]
  },
  {
   "cell_type": "code",
   "execution_count": 20,
   "id": "50c408cf",
   "metadata": {},
   "outputs": [
    {
     "name": "stdout",
     "output_type": "stream",
     "text": [
      "['MAXYEAR', 'MINYEAR', 'UTC', '__all__', '__builtins__', '__cached__', '__doc__', '__file__', '__loader__', '__name__', '__package__', '__spec__', 'date', 'datetime', 'datetime_CAPI', 'sys', 'time', 'timedelta', 'timezone', 'tzinfo']\n"
     ]
    }
   ],
   "source": [
    "import datetime\n",
    "\n",
    "print(dir(datetime))"
   ]
  },
  {
   "cell_type": "code",
   "execution_count": 21,
   "id": "eb34b33d",
   "metadata": {},
   "outputs": [
    {
     "name": "stdout",
     "output_type": "stream",
     "text": [
      "Hour = 11\n",
      "Minute = 34\n",
      "Second = 56\n",
      "Microsecond = 0\n"
     ]
    }
   ],
   "source": [
    "from datetime import time\n",
    "\n",
    "a = time(11, 34, 56)\n",
    "\n",
    "print(\"Hour =\", a.hour)\n",
    "print(\"Minute =\", a.minute)\n",
    "print(\"Second =\", a.second)\n",
    "print(\"Microsecond =\", a.microsecond)"
   ]
  },
  {
   "cell_type": "markdown",
   "id": "430c9d34",
   "metadata": {},
   "source": [
    "# Function"
   ]
  },
  {
   "cell_type": "code",
   "execution_count": 31,
   "id": "2e468555",
   "metadata": {},
   "outputs": [],
   "source": [
    "def a():\n",
    "    print('Hello My name is Mukesh nirmal !!!')\n",
    "    "
   ]
  },
  {
   "cell_type": "code",
   "execution_count": 32,
   "id": "38d5e9c9",
   "metadata": {},
   "outputs": [
    {
     "name": "stdout",
     "output_type": "stream",
     "text": [
      "Hello My name is Mukesh nirmal !!!\n"
     ]
    }
   ],
   "source": [
    "a()"
   ]
  },
  {
   "cell_type": "code",
   "execution_count": 24,
   "id": "56f4415c",
   "metadata": {},
   "outputs": [],
   "source": [
    "def b():print(5*2)"
   ]
  },
  {
   "cell_type": "code",
   "execution_count": 25,
   "id": "e3ca118c",
   "metadata": {},
   "outputs": [
    {
     "name": "stdout",
     "output_type": "stream",
     "text": [
      "10\n"
     ]
    }
   ],
   "source": [
    "b()"
   ]
  },
  {
   "cell_type": "code",
   "execution_count": 34,
   "id": "22b6f1a6",
   "metadata": {},
   "outputs": [],
   "source": [
    "def addi(a,b):print(a+b)"
   ]
  },
  {
   "cell_type": "code",
   "execution_count": 36,
   "id": "13f0c697",
   "metadata": {},
   "outputs": [
    {
     "name": "stdout",
     "output_type": "stream",
     "text": [
      "10\n"
     ]
    }
   ],
   "source": [
    "addi(5,5)"
   ]
  },
  {
   "cell_type": "code",
   "execution_count": 38,
   "id": "d2113a75",
   "metadata": {},
   "outputs": [],
   "source": [
    "def subs(a,b):print(a-b)"
   ]
  },
  {
   "cell_type": "code",
   "execution_count": 39,
   "id": "f580cf24",
   "metadata": {},
   "outputs": [
    {
     "name": "stdout",
     "output_type": "stream",
     "text": [
      "5\n"
     ]
    }
   ],
   "source": [
    "subs(55,50)"
   ]
  },
  {
   "cell_type": "code",
   "execution_count": 40,
   "id": "819632d4",
   "metadata": {},
   "outputs": [],
   "source": [
    "def calc(a,b):\n",
    "    print(a+b)\n",
    "    print(a-b)\n",
    "    print(a*b)\n",
    "    print(a/b)\n",
    "    print(a**b)"
   ]
  },
  {
   "cell_type": "code",
   "execution_count": 44,
   "id": "1b4a72c4",
   "metadata": {},
   "outputs": [
    {
     "name": "stdout",
     "output_type": "stream",
     "text": [
      "19\n",
      "-11\n",
      "60\n",
      "0.26666666666666666\n",
      "1073741824\n"
     ]
    }
   ],
   "source": [
    "calc(4,15)"
   ]
  },
  {
   "cell_type": "code",
   "execution_count": 43,
   "id": "6c3e29e5",
   "metadata": {},
   "outputs": [
    {
     "name": "stdout",
     "output_type": "stream",
     "text": [
      "The youngest child is Tobias\n"
     ]
    }
   ],
   "source": []
  },
  {
   "cell_type": "code",
   "execution_count": null,
   "id": "4a28980b",
   "metadata": {},
   "outputs": [],
   "source": []
  }
 ],
 "metadata": {
  "kernelspec": {
   "display_name": "Python 3 (ipykernel)",
   "language": "python",
   "name": "python3"
  },
  "language_info": {
   "codemirror_mode": {
    "name": "ipython",
    "version": 3
   },
   "file_extension": ".py",
   "mimetype": "text/x-python",
   "name": "python",
   "nbconvert_exporter": "python",
   "pygments_lexer": "ipython3",
   "version": "3.11.4"
  }
 },
 "nbformat": 4,
 "nbformat_minor": 5
}
