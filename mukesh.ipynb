{
 "cells": [
  {
   "cell_type": "markdown",
   "id": "6cf72406",
   "metadata": {},
   "source": [
    "# My First Notebook\n",
    "\n",
    "On 21 June 2023\n"
   ]
  },
  {
   "cell_type": "markdown",
   "id": "d36b1504",
   "metadata": {},
   "source": [
    "How to run a python program"
   ]
  },
  {
   "cell_type": "code",
   "execution_count": 17,
   "id": "c2b4de07",
   "metadata": {},
   "outputs": [],
   "source": [
    "# Data Types in python"
   ]
  },
  {
   "cell_type": "code",
   "execution_count": 18,
   "id": "a2bb2443",
   "metadata": {},
   "outputs": [
    {
     "name": "stdout",
     "output_type": "stream",
     "text": [
      "<class 'int'>\n"
     ]
    }
   ],
   "source": [
    "print (type(-367))"
   ]
  },
  {
   "cell_type": "code",
   "execution_count": 19,
   "id": "201c9202",
   "metadata": {},
   "outputs": [
    {
     "name": "stdout",
     "output_type": "stream",
     "text": [
      "<class 'float'>\n"
     ]
    }
   ],
   "source": [
    "print (type(0.2))"
   ]
  },
  {
   "cell_type": "code",
   "execution_count": 20,
   "id": "0f00d1f3",
   "metadata": {},
   "outputs": [
    {
     "name": "stdout",
     "output_type": "stream",
     "text": [
      "<class 'complex'>\n"
     ]
    }
   ],
   "source": [
    "print (type(1+5j))"
   ]
  },
  {
   "cell_type": "code",
   "execution_count": 21,
   "id": "8226888c",
   "metadata": {},
   "outputs": [
    {
     "data": {
      "text/plain": [
       "bool"
      ]
     },
     "execution_count": 21,
     "metadata": {},
     "output_type": "execute_result"
    }
   ],
   "source": [
    "type(True)"
   ]
  },
  {
   "cell_type": "code",
   "execution_count": 22,
   "id": "fc749a2f",
   "metadata": {},
   "outputs": [
    {
     "data": {
      "text/plain": [
       "bool"
      ]
     },
     "execution_count": 22,
     "metadata": {},
     "output_type": "execute_result"
    }
   ],
   "source": [
    "type(False)"
   ]
  },
  {
   "cell_type": "code",
   "execution_count": 23,
   "id": "1cdded38",
   "metadata": {},
   "outputs": [
    {
     "data": {
      "text/plain": [
       "str"
      ]
     },
     "execution_count": 23,
     "metadata": {},
     "output_type": "execute_result"
    }
   ],
   "source": [
    "type ('print')"
   ]
  },
  {
   "cell_type": "code",
   "execution_count": 6,
   "id": "b6bd47ea",
   "metadata": {},
   "outputs": [
    {
     "data": {
      "text/plain": [
       "complex"
      ]
     },
     "execution_count": 6,
     "metadata": {},
     "output_type": "execute_result"
    }
   ],
   "source": [
    "variable1=123\n",
    "variable2=5+3j\n",
    "variable3=123.123\n",
    "type(variable2)"
   ]
  },
  {
   "cell_type": "code",
   "execution_count": 12,
   "id": "1e48219e",
   "metadata": {},
   "outputs": [
    {
     "name": "stdout",
     "output_type": "stream",
     "text": [
      "<class 'complex'>\n"
     ]
    }
   ],
   "source": [
    "print (type(20.2j))"
   ]
  },
  {
   "cell_type": "code",
   "execution_count": 13,
   "id": "b522f284",
   "metadata": {},
   "outputs": [
    {
     "name": "stdout",
     "output_type": "stream",
     "text": [
      "7\n"
     ]
    }
   ],
   "source": [
    "a1=(2+5)\n",
    "print (a1)"
   ]
  },
  {
   "cell_type": "code",
   "execution_count": 24,
   "id": "05a84160",
   "metadata": {},
   "outputs": [
    {
     "name": "stdout",
     "output_type": "stream",
     "text": [
      "<class 'list'>\n"
     ]
    }
   ],
   "source": [
    "note1=['Chandigarh',[10,20,30],['red','blue']]\n",
    "print(type(note1))"
   ]
  },
  {
   "cell_type": "code",
   "execution_count": 29,
   "id": "bad55161",
   "metadata": {},
   "outputs": [
    {
     "name": "stdout",
     "output_type": "stream",
     "text": [
      "<class 'tuple'>\n"
     ]
    }
   ],
   "source": [
    "color1=('red','black','pink','yellow')\n",
    "print(type(color1))"
   ]
  },
  {
   "cell_type": "code",
   "execution_count": 32,
   "id": "7f132aed",
   "metadata": {},
   "outputs": [
    {
     "name": "stdout",
     "output_type": "stream",
     "text": [
      "<class 'set'>\n"
     ]
    }
   ],
   "source": [
    "name1={'Mukesh','Bhagwan','Bhagwan'}\n",
    "\n",
    "print (type(name1))"
   ]
  },
  {
   "cell_type": "code",
   "execution_count": 35,
   "id": "7e9c0df5",
   "metadata": {},
   "outputs": [
    {
     "name": "stdout",
     "output_type": "stream",
     "text": [
      "<class 'str'>\n"
     ]
    }
   ],
   "source": [
    "namee2=('Mukesh')*10\n",
    "print(type(namee2))"
   ]
  },
  {
   "cell_type": "code",
   "execution_count": 37,
   "id": "a7110063",
   "metadata": {},
   "outputs": [
    {
     "name": "stdout",
     "output_type": "stream",
     "text": [
      "{'ALD', 'KNP', 'DDN'}\n"
     ]
    }
   ],
   "source": [
    "newset1={'DDN','ALD','KNP'}\n",
    "print(newset1)"
   ]
  },
  {
   "cell_type": "code",
   "execution_count": 39,
   "id": "ec0d99c0",
   "metadata": {},
   "outputs": [
    {
     "name": "stdout",
     "output_type": "stream",
     "text": [
      "<class 'dict'>\n"
     ]
    }
   ],
   "source": [
    "rvalue1={'color1':10,\n",
    "        'color2':20,\n",
    "        'coloe3':30}\n",
    "print(type(rvalue1))"
   ]
  },
  {
   "cell_type": "code",
   "execution_count": null,
   "id": "2c20969b",
   "metadata": {},
   "outputs": [],
   "source": []
  },
  {
   "cell_type": "code",
   "execution_count": null,
   "id": "d05a1b68",
   "metadata": {},
   "outputs": [],
   "source": []
  },
  {
   "cell_type": "code",
   "execution_count": null,
   "id": "8b83f545",
   "metadata": {},
   "outputs": [],
   "source": []
  },
  {
   "cell_type": "code",
   "execution_count": null,
   "id": "d9acc4f1",
   "metadata": {},
   "outputs": [],
   "source": []
  },
  {
   "cell_type": "code",
   "execution_count": 5,
   "id": "5eb6935a",
   "metadata": {},
   "outputs": [
    {
     "name": "stdout",
     "output_type": "stream",
     "text": [
      "Enter value in kilometers: 2\n",
      "2.00 kilometers in miles  1.24 miles\n"
     ]
    }
   ],
   "source": [
    "km = float(input(\"Enter value in kilometers: \"))\n",
    "conv = 0.621371\n",
    "miles = km * conv\n",
    "print('%0.2f kilometers in miles  %0.2f miles' %(km,miles))"
   ]
  },
  {
   "cell_type": "code",
   "execution_count": null,
   "id": "4e2f1091",
   "metadata": {},
   "outputs": [],
   "source": [
    "\n",
    "\n"
   ]
  },
  {
   "cell_type": "code",
   "execution_count": null,
   "id": "55cc9031",
   "metadata": {},
   "outputs": [],
   "source": []
  },
  {
   "cell_type": "code",
   "execution_count": null,
   "id": "f2b58140",
   "metadata": {},
   "outputs": [],
   "source": []
  },
  {
   "cell_type": "code",
   "execution_count": null,
   "id": "164f8fcc",
   "metadata": {},
   "outputs": [],
   "source": []
  },
  {
   "cell_type": "code",
   "execution_count": null,
   "id": "aa482cc7",
   "metadata": {},
   "outputs": [],
   "source": []
  },
  {
   "cell_type": "code",
   "execution_count": 10,
   "id": "19c1d84a",
   "metadata": {},
   "outputs": [
    {
     "name": "stdout",
     "output_type": "stream",
     "text": [
      "The sum is 28\n"
     ]
    }
   ],
   "source": [
    "num = 7\n",
    "\n",
    "if num < 0:\n",
    "   print(\"Enter a positive number\")\n",
    "else:\n",
    "   sum = 0\n",
    "   while(num > 0):\n",
    "       sum += num\n",
    "       num -= 1\n",
    "   print(\"The sum is\", sum)"
   ]
  },
  {
   "cell_type": "code",
   "execution_count": 14,
   "id": "2888cdff",
   "metadata": {},
   "outputs": [
    {
     "name": "stdout",
     "output_type": "stream",
     "text": [
      "[1, 2, 3, 4, 5]\n"
     ]
    }
   ],
   "source": [
    "x = [1,2,2,3,3,4,1,5]\n",
    "x = list(dict.fromkeys(x))\n",
    "print(x)"
   ]
  },
  {
   "cell_type": "code",
   "execution_count": 2,
   "id": "3a1d2030",
   "metadata": {},
   "outputs": [
    {
     "ename": "Terminator",
     "evalue": "",
     "output_type": "error",
     "traceback": [
      "\u001b[1;31m---------------------------------------------------------------------------\u001b[0m",
      "\u001b[1;31mTerminator\u001b[0m                                Traceback (most recent call last)",
      "Cell \u001b[1;32mIn[2], line 129\u001b[0m\n\u001b[0;32m    125\u001b[0m screen\u001b[38;5;241m.\u001b[39monkey(go_down, \u001b[38;5;124m\"\u001b[39m\u001b[38;5;124mDown\u001b[39m\u001b[38;5;124m\"\u001b[39m)\n\u001b[0;32m    126\u001b[0m screen\u001b[38;5;241m.\u001b[39monkey(go_left, \u001b[38;5;124m\"\u001b[39m\u001b[38;5;124mLeft\u001b[39m\u001b[38;5;124m\"\u001b[39m)\n\u001b[1;32m--> 129\u001b[0m \u001b[43mreset\u001b[49m\u001b[43m(\u001b[49m\u001b[43m)\u001b[49m\n\u001b[0;32m    130\u001b[0m turtle\u001b[38;5;241m.\u001b[39mdone()\n",
      "Cell \u001b[1;32mIn[2], line 22\u001b[0m, in \u001b[0;36mreset\u001b[1;34m()\u001b[0m\n\u001b[0;32m     20\u001b[0m food_position \u001b[38;5;241m=\u001b[39m get_random_food_position()\n\u001b[0;32m     21\u001b[0m food\u001b[38;5;241m.\u001b[39mgoto(food_position)\n\u001b[1;32m---> 22\u001b[0m \u001b[43mmove_snake\u001b[49m\u001b[43m(\u001b[49m\u001b[43m)\u001b[49m\n",
      "Cell \u001b[1;32mIn[2], line 60\u001b[0m, in \u001b[0;36mmove_snake\u001b[1;34m()\u001b[0m\n\u001b[0;32m     56\u001b[0m     pen\u001b[38;5;241m.\u001b[39mgoto(segment[\u001b[38;5;241m0\u001b[39m], segment[\u001b[38;5;241m1\u001b[39m])\n\u001b[0;32m     57\u001b[0m     pen\u001b[38;5;241m.\u001b[39mstamp()\n\u001b[1;32m---> 60\u001b[0m \u001b[43mscreen\u001b[49m\u001b[38;5;241;43m.\u001b[39;49m\u001b[43mupdate\u001b[49m\u001b[43m(\u001b[49m\u001b[43m)\u001b[49m\n\u001b[0;32m     62\u001b[0m turtle\u001b[38;5;241m.\u001b[39montimer(move_snake, delay)\n",
      "File \u001b[1;32m~\\AppData\\Local\\Programs\\Python\\Python311\\Lib\\turtle.py:1304\u001b[0m, in \u001b[0;36mTurtleScreen.update\u001b[1;34m(self)\u001b[0m\n\u001b[0;32m   1302\u001b[0m \u001b[38;5;28mself\u001b[39m\u001b[38;5;241m.\u001b[39m_tracing \u001b[38;5;241m=\u001b[39m \u001b[38;5;28;01mTrue\u001b[39;00m\n\u001b[0;32m   1303\u001b[0m \u001b[38;5;28;01mfor\u001b[39;00m t \u001b[38;5;129;01min\u001b[39;00m \u001b[38;5;28mself\u001b[39m\u001b[38;5;241m.\u001b[39mturtles():\n\u001b[1;32m-> 1304\u001b[0m     \u001b[43mt\u001b[49m\u001b[38;5;241;43m.\u001b[39;49m\u001b[43m_update_data\u001b[49m\u001b[43m(\u001b[49m\u001b[43m)\u001b[49m\n\u001b[0;32m   1305\u001b[0m     t\u001b[38;5;241m.\u001b[39m_drawturtle()\n\u001b[0;32m   1306\u001b[0m \u001b[38;5;28mself\u001b[39m\u001b[38;5;241m.\u001b[39m_tracing \u001b[38;5;241m=\u001b[39m tracing\n",
      "File \u001b[1;32m~\\AppData\\Local\\Programs\\Python\\Python311\\Lib\\turtle.py:2647\u001b[0m, in \u001b[0;36mRawTurtle._update_data\u001b[1;34m(self)\u001b[0m\n\u001b[0;32m   2646\u001b[0m \u001b[38;5;28;01mdef\u001b[39;00m \u001b[38;5;21m_update_data\u001b[39m(\u001b[38;5;28mself\u001b[39m):\n\u001b[1;32m-> 2647\u001b[0m     \u001b[38;5;28;43mself\u001b[39;49m\u001b[38;5;241;43m.\u001b[39;49m\u001b[43mscreen\u001b[49m\u001b[38;5;241;43m.\u001b[39;49m\u001b[43m_incrementudc\u001b[49m\u001b[43m(\u001b[49m\u001b[43m)\u001b[49m\n\u001b[0;32m   2648\u001b[0m     \u001b[38;5;28;01mif\u001b[39;00m \u001b[38;5;28mself\u001b[39m\u001b[38;5;241m.\u001b[39mscreen\u001b[38;5;241m.\u001b[39m_updatecounter \u001b[38;5;241m!=\u001b[39m \u001b[38;5;241m0\u001b[39m:\n\u001b[0;32m   2649\u001b[0m         \u001b[38;5;28;01mreturn\u001b[39;00m\n",
      "File \u001b[1;32m~\\AppData\\Local\\Programs\\Python\\Python311\\Lib\\turtle.py:1293\u001b[0m, in \u001b[0;36mTurtleScreen._incrementudc\u001b[1;34m(self)\u001b[0m\n\u001b[0;32m   1291\u001b[0m \u001b[38;5;28;01mif\u001b[39;00m \u001b[38;5;129;01mnot\u001b[39;00m TurtleScreen\u001b[38;5;241m.\u001b[39m_RUNNING:\n\u001b[0;32m   1292\u001b[0m     TurtleScreen\u001b[38;5;241m.\u001b[39m_RUNNING \u001b[38;5;241m=\u001b[39m \u001b[38;5;28;01mTrue\u001b[39;00m\n\u001b[1;32m-> 1293\u001b[0m     \u001b[38;5;28;01mraise\u001b[39;00m Terminator\n\u001b[0;32m   1294\u001b[0m \u001b[38;5;28;01mif\u001b[39;00m \u001b[38;5;28mself\u001b[39m\u001b[38;5;241m.\u001b[39m_tracing \u001b[38;5;241m>\u001b[39m \u001b[38;5;241m0\u001b[39m:\n\u001b[0;32m   1295\u001b[0m     \u001b[38;5;28mself\u001b[39m\u001b[38;5;241m.\u001b[39m_updatecounter \u001b[38;5;241m+\u001b[39m\u001b[38;5;241m=\u001b[39m \u001b[38;5;241m1\u001b[39m\n",
      "\u001b[1;31mTerminator\u001b[0m: "
     ]
    }
   ],
   "source": [
    "import turtle\n",
    "import random\n",
    " \n",
    "w = 500\n",
    "h = 500\n",
    "food_size = 10\n",
    "delay = 100\n",
    " \n",
    "offsets = {\n",
    "    \"up\": (0, 20),\n",
    "    \"down\": (0, -20),\n",
    "    \"left\": (-20, 0),\n",
    "    \"right\": (20, 0)\n",
    "}\n",
    " \n",
    "def reset():\n",
    "    global snake, snake_dir, food_position, pen\n",
    "    snake = [[0, 0], [0, 20], [0, 40], [0, 60], [0, 80]]\n",
    "    snake_dir = \"up\"\n",
    "    food_position = get_random_food_position()\n",
    "    food.goto(food_position)\n",
    "    move_snake()\n",
    "     \n",
    "def move_snake():\n",
    "    global snake_dir\n",
    " \n",
    "    new_head = snake[-1].copy()\n",
    "    new_head[0] = snake[-1][0] + offsets[snake_dir][0]\n",
    "    new_head[1] = snake[-1][1] + offsets[snake_dir][1]\n",
    " \n",
    "     \n",
    "    if new_head in snake[:-1]:\n",
    "        reset()\n",
    "    else:\n",
    "        snake.append(new_head)\n",
    " \n",
    "     \n",
    "        if not food_collision():\n",
    "            snake.pop(0)\n",
    " \n",
    " \n",
    "        if snake[-1][0] > w / 2:\n",
    "            snake[-1][0] -= w\n",
    "        elif snake[-1][0] < - w / 2:\n",
    "            snake[-1][0] += w\n",
    "        elif snake[-1][1] > h / 2:\n",
    "            snake[-1][1] -= h\n",
    "        elif snake[-1][1] < -h / 2:\n",
    "            snake[-1][1] += h\n",
    " \n",
    " \n",
    "        pen.clearstamps()\n",
    " \n",
    "         \n",
    "        for segment in snake:\n",
    "            pen.goto(segment[0], segment[1])\n",
    "            pen.stamp()\n",
    " \n",
    "         \n",
    "        screen.update()\n",
    " \n",
    "        turtle.ontimer(move_snake, delay)\n",
    " \n",
    "def food_collision():\n",
    "    global food_position\n",
    "    if get_distance(snake[-1], food_position) < 20:\n",
    "        food_position = get_random_food_position()\n",
    "        food.goto(food_position)\n",
    "        return True\n",
    "    return False\n",
    " \n",
    "def get_random_food_position():\n",
    "    x = random.randint(- w / 2 + food_size, w / 2 - food_size)\n",
    "    y = random.randint(- h / 2 + food_size, h / 2 - food_size)\n",
    "    return (x, y)\n",
    " \n",
    "def get_distance(pos1, pos2):\n",
    "    x1, y1 = pos1\n",
    "    x2, y2 = pos2\n",
    "    distance = ((y2 - y1) ** 2 + (x2 - x1) ** 2) ** 0.5\n",
    "    return distance\n",
    "def go_up():\n",
    "    global snake_dir\n",
    "    if snake_dir != \"down\":\n",
    "        snake_dir = \"up\"\n",
    " \n",
    "def go_right():\n",
    "    global snake_dir\n",
    "    if snake_dir != \"left\":\n",
    "        snake_dir = \"right\"\n",
    " \n",
    "def go_down():\n",
    "    global snake_dir\n",
    "    if snake_dir!= \"up\":\n",
    "        snake_dir = \"down\"\n",
    " \n",
    "def go_left():\n",
    "    global snake_dir\n",
    "    if snake_dir != \"right\":\n",
    "        snake_dir = \"left\"\n",
    " \n",
    " \n",
    "screen = turtle.Screen()\n",
    "screen.setup(w, h)\n",
    "screen.title(\"Snake\")\n",
    "screen.bgcolor(\"blue\")\n",
    "screen.setup(500, 500)\n",
    "screen.tracer(0)\n",
    " \n",
    " \n",
    "pen = turtle.Turtle(\"square\")\n",
    "pen.penup()\n",
    " \n",
    " \n",
    "food = turtle.Turtle()\n",
    "food.shape(\"square\")\n",
    "food.color(\"yellow\")\n",
    "food.shapesize(food_size / 20)\n",
    "food.penup()\n",
    " \n",
    " \n",
    "screen.listen()\n",
    "screen.onkey(go_up, \"Up\")\n",
    "screen.onkey(go_right, \"Right\")\n",
    "screen.onkey(go_down, \"Down\")\n",
    "screen.onkey(go_left, \"Left\")\n",
    " \n",
    " \n",
    "reset()\n",
    "turtle.done()"
   ]
  },
  {
   "cell_type": "code",
   "execution_count": null,
   "id": "53ef0404",
   "metadata": {},
   "outputs": [],
   "source": []
  }
 ],
 "metadata": {
  "kernelspec": {
   "display_name": "Python 3 (ipykernel)",
   "language": "python",
   "name": "python3"
  },
  "language_info": {
   "codemirror_mode": {
    "name": "ipython",
    "version": 3
   },
   "file_extension": ".py",
   "mimetype": "text/x-python",
   "name": "python",
   "nbconvert_exporter": "python",
   "pygments_lexer": "ipython3",
   "version": "3.11.4"
  }
 },
 "nbformat": 4,
 "nbformat_minor": 5
}
