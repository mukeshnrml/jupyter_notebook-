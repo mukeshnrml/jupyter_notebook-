{
 "cells": [
  {
   "cell_type": "markdown",
   "id": "0dfe9d46",
   "metadata": {},
   "source": [
    "# List Manipulation"
   ]
  },
  {
   "cell_type": "code",
   "execution_count": 16,
   "id": "4c339328",
   "metadata": {},
   "outputs": [
    {
     "name": "stdout",
     "output_type": "stream",
     "text": [
      "['Dehradun', 'Kanpur', 'Prayagraj', ['LKP', 'JDU', 'HYB', 255]]\n"
     ]
    }
   ],
   "source": [
    "#appned\n",
    "nsti=['Dehradun','Kanpur','Prayagraj']\n",
    "nsti1=['LKP','JDU','HYB',255]\n",
    "nsti.append(nsti1)\n",
    "print(nsti)"
   ]
  },
  {
   "cell_type": "code",
   "execution_count": 21,
   "id": "fde7fa1b",
   "metadata": {},
   "outputs": [
    {
     "name": "stdout",
     "output_type": "stream",
     "text": [
      "[]\n"
     ]
    }
   ],
   "source": [
    "#clear\n",
    "nsti=['DDN','KNP','ALD','PTN']\n",
    "nsti.clear()\n",
    "print(nsti)"
   ]
  },
  {
   "cell_type": "code",
   "execution_count": 24,
   "id": "9e429872",
   "metadata": {},
   "outputs": [
    {
     "name": "stdout",
     "output_type": "stream",
     "text": [
      "[]\n"
     ]
    }
   ],
   "source": [
    "number=[1,2,3,4,5,6,7,7,5,3]\n",
    "number.clear()\n",
    "print(number)"
   ]
  },
  {
   "cell_type": "code",
   "execution_count": 30,
   "id": "836300f2",
   "metadata": {},
   "outputs": [
    {
     "name": "stdout",
     "output_type": "stream",
     "text": [
      "0\n"
     ]
    }
   ],
   "source": [
    "#count \n",
    "city1=['Mumbai','Delhi','Kolkata','Chennai']\n",
    "city2=city1.count('kolkata')\n",
    "print(city2)"
   ]
  },
  {
   "cell_type": "code",
   "execution_count": 32,
   "id": "400efb98",
   "metadata": {},
   "outputs": [
    {
     "name": "stdout",
     "output_type": "stream",
     "text": [
      "['Dark', 'Black', 'White', 'Red', 'Blue']\n"
     ]
    }
   ],
   "source": [
    "#insert\n",
    "color=['Black','White','Red','Blue']\n",
    "color.insert(0,'Dark')\n",
    "print(color)\n"
   ]
  },
  {
   "cell_type": "code",
   "execution_count": 33,
   "id": "f378a09d",
   "metadata": {},
   "outputs": [
    {
     "name": "stdout",
     "output_type": "stream",
     "text": [
      "['Red', 'Black', 'Green', 'Blue']\n"
     ]
    }
   ],
   "source": [
    "#pop\n",
    "color=['Red','Black','Green','Blue',5]\n",
    "color.pop()\n",
    "print(color)"
   ]
  },
  {
   "cell_type": "code",
   "execution_count": 35,
   "id": "8ba6d0a7",
   "metadata": {},
   "outputs": [
    {
     "name": "stdout",
     "output_type": "stream",
     "text": [
      "['Mukesh', 'Bhagwan', 'Manisha']\n"
     ]
    }
   ],
   "source": [
    "#Remove\n",
    "name=['Mukesh','Bhagwan','Aman','Manisha']\n",
    "name.remove('Aman')\n",
    "print(name)"
   ]
  },
  {
   "cell_type": "code",
   "execution_count": 36,
   "id": "20093cae",
   "metadata": {},
   "outputs": [
    {
     "name": "stdout",
     "output_type": "stream",
     "text": [
      "[35, 25, 24, 23, 1]\n"
     ]
    }
   ],
   "source": [
    "#reverse \n",
    "num=[1,23,24,25,35]\n",
    "num.reverse()\n",
    "print(num)"
   ]
  },
  {
   "cell_type": "code",
   "execution_count": 42,
   "id": "ba2361ca",
   "metadata": {},
   "outputs": [
    {
     "name": "stdout",
     "output_type": "stream",
     "text": [
      "[15, 25, 45, 55, 65]\n"
     ]
    }
   ],
   "source": [
    "#short\n",
    "num=[55,65,45,25,15]\n",
    "num.sort()\n",
    "print(num)"
   ]
  },
  {
   "cell_type": "code",
   "execution_count": 48,
   "id": "c1a086a0",
   "metadata": {},
   "outputs": [
    {
     "name": "stdout",
     "output_type": "stream",
     "text": [
      "False\n",
      "True\n",
      "True\n",
      "False\n",
      "True\n",
      "False\n"
     ]
    }
   ],
   "source": [
    "#Comparison Operator \n",
    "a=6\n",
    "b=3\n",
    "print(a==b)\n",
    "print(a!=b)\n",
    "print(a>b)\n",
    "print(a<b)\n",
    "print(a>=b)\n",
    "print(a<=b)\n"
   ]
  },
  {
   "cell_type": "code",
   "execution_count": 63,
   "id": "92a6565c",
   "metadata": {
    "scrolled": true
   },
   "outputs": [
    {
     "name": "stdout",
     "output_type": "stream",
     "text": [
      "10\n",
      "15\n",
      "6\n",
      "12\n"
     ]
    }
   ],
   "source": [
    "#Assignment Operator\n",
    "a=10\n",
    "print(a)\n",
    "\n",
    "b = 10\n",
    "b += 5\n",
    "print(b)\n",
    "\n",
    "c = 9\n",
    "c -=3\n",
    "print(c)\n",
    "\n",
    "d = 4\n",
    "d *= 3\n",
    "print(d)\n",
    "\n"
   ]
  },
  {
   "cell_type": "code",
   "execution_count": 91,
   "id": "aaa1a6d1",
   "metadata": {},
   "outputs": [
    {
     "name": "stdout",
     "output_type": "stream",
     "text": [
      "True\n",
      "False\n"
     ]
    }
   ],
   "source": [
    "# Logical Operator\n",
    "x = 4\n",
    "\n",
    "print(x > 3 and x < 10)\n",
    "\n",
    "\n",
    "a = 6\n",
    "\n",
    "print(a > 6  or a < 6)"
   ]
  },
  {
   "cell_type": "code",
   "execution_count": 98,
   "id": "c9fbc665",
   "metadata": {},
   "outputs": [
    {
     "name": "stdout",
     "output_type": "stream",
     "text": [
      "15\n",
      "10\n",
      "2\n",
      "0\n"
     ]
    }
   ],
   "source": [
    "# bitwise Operator \n",
    " \n",
    "a = 10 | 15\n",
    "print (a)\n",
    "\n",
    "b = 10 & 15\n",
    "print(b)\n",
    "\n",
    "c = 10 ^ 8\n",
    "print(c)\n",
    "\n",
    "d = 8 >> 12\n",
    "print(d)\n"
   ]
  },
  {
   "cell_type": "code",
   "execution_count": null,
   "id": "5f59cfb0",
   "metadata": {},
   "outputs": [],
   "source": []
  }
 ],
 "metadata": {
  "kernelspec": {
   "display_name": "Python 3 (ipykernel)",
   "language": "python",
   "name": "python3"
  },
  "language_info": {
   "codemirror_mode": {
    "name": "ipython",
    "version": 3
   },
   "file_extension": ".py",
   "mimetype": "text/x-python",
   "name": "python",
   "nbconvert_exporter": "python",
   "pygments_lexer": "ipython3",
   "version": "3.11.4"
  }
 },
 "nbformat": 4,
 "nbformat_minor": 5
}
