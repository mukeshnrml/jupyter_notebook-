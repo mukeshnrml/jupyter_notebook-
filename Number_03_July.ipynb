{
 "cells": [
  {
   "cell_type": "code",
   "execution_count": 1,
   "id": "d1cdc37c",
   "metadata": {},
   "outputs": [
    {
     "data": {
      "text/plain": [
       "255"
      ]
     },
     "execution_count": 1,
     "metadata": {},
     "output_type": "execute_result"
    }
   ],
   "source": [
    "(int('11111111',2))"
   ]
  },
  {
   "cell_type": "code",
   "execution_count": 2,
   "id": "8b0a6b72",
   "metadata": {},
   "outputs": [
    {
     "data": {
      "text/plain": [
       "45"
      ]
     },
     "execution_count": 2,
     "metadata": {},
     "output_type": "execute_result"
    }
   ],
   "source": [
    "9*5"
   ]
  },
  {
   "cell_type": "code",
   "execution_count": 6,
   "id": "412c315a",
   "metadata": {},
   "outputs": [
    {
     "data": {
      "text/plain": [
       "0"
      ]
     },
     "execution_count": 6,
     "metadata": {},
     "output_type": "execute_result"
    }
   ],
   "source": [
    "f = 16\n",
    "f %= 2\n",
    "f"
   ]
  },
  {
   "cell_type": "code",
   "execution_count": 5,
   "id": "61299664",
   "metadata": {},
   "outputs": [
    {
     "data": {
      "text/plain": [
       "3"
      ]
     },
     "execution_count": 5,
     "metadata": {},
     "output_type": "execute_result"
    }
   ],
   "source": [
    "g = 20\n",
    "g //=6\n",
    "g"
   ]
  },
  {
   "cell_type": "code",
   "execution_count": 8,
   "id": "901c88c4",
   "metadata": {},
   "outputs": [
    {
     "data": {
      "text/plain": [
       "7"
      ]
     },
     "execution_count": 8,
     "metadata": {},
     "output_type": "execute_result"
    }
   ],
   "source": [
    "m = 15\n",
    "n = m//2\n",
    "n"
   ]
  },
  {
   "cell_type": "code",
   "execution_count": 12,
   "id": "ddacc333",
   "metadata": {},
   "outputs": [
    {
     "data": {
      "text/plain": [
       "False"
      ]
     },
     "execution_count": 12,
     "metadata": {},
     "output_type": "execute_result"
    }
   ],
   "source": [
    "#comparision Operation\n",
    "\n",
    "a = 10\n",
    "a == 11"
   ]
  },
  {
   "cell_type": "code",
   "execution_count": 13,
   "id": "59d83cdd",
   "metadata": {},
   "outputs": [
    {
     "data": {
      "text/plain": [
       "True"
      ]
     },
     "execution_count": 13,
     "metadata": {},
     "output_type": "execute_result"
    }
   ],
   "source": [
    "a >=8"
   ]
  },
  {
   "cell_type": "code",
   "execution_count": 14,
   "id": "bd233baf",
   "metadata": {},
   "outputs": [
    {
     "data": {
      "text/plain": [
       "False"
      ]
     },
     "execution_count": 14,
     "metadata": {},
     "output_type": "execute_result"
    }
   ],
   "source": [
    "a <= 8"
   ]
  },
  {
   "cell_type": "code",
   "execution_count": 26,
   "id": "7427c1ec",
   "metadata": {},
   "outputs": [
    {
     "name": "stdout",
     "output_type": "stream",
     "text": [
      "a is greater than b\n"
     ]
    }
   ],
   "source": [
    "a = 2000\n",
    "b = 200\n",
    "if b > a:\n",
    "  print(\"b is greater than a\")\n",
    "elif a == b:\n",
    "  print(\"a and b are equal\")\n",
    "else:\n",
    "  print(\"a is greater than b\")"
   ]
  },
  {
   "cell_type": "code",
   "execution_count": null,
   "id": "8ea1d9dd",
   "metadata": {},
   "outputs": [],
   "source": [
    "count = 0\n",
    "while (count < 3):\n",
    "    count = count + 1\n",
    "    print(\"Hello Geek\")\n"
   ]
  },
  {
   "cell_type": "markdown",
   "id": "a5f3f31f",
   "metadata": {},
   "source": [
    "04/07/2023"
   ]
  },
  {
   "cell_type": "code",
   "execution_count": 1,
   "id": "eb52fc19",
   "metadata": {},
   "outputs": [
    {
     "data": {
      "text/plain": [
       "308390570204330120177288235030"
      ]
     },
     "execution_count": 1,
     "metadata": {},
     "output_type": "execute_result"
    }
   ],
   "source": [
    "555117415155115*555541155411522"
   ]
  },
  {
   "cell_type": "code",
   "execution_count": 3,
   "id": "4ecd72f1",
   "metadata": {},
   "outputs": [
    {
     "data": {
      "text/plain": [
       "3"
      ]
     },
     "execution_count": 3,
     "metadata": {},
     "output_type": "execute_result"
    }
   ],
   "source": [
    "0b11"
   ]
  },
  {
   "cell_type": "code",
   "execution_count": 4,
   "id": "46ebb8fd",
   "metadata": {},
   "outputs": [
    {
     "data": {
      "text/plain": [
       "'0b1111'"
      ]
     },
     "execution_count": 4,
     "metadata": {},
     "output_type": "execute_result"
    }
   ],
   "source": [
    "bin(15)"
   ]
  },
  {
   "cell_type": "code",
   "execution_count": 5,
   "id": "c996ba14",
   "metadata": {},
   "outputs": [
    {
     "data": {
      "text/plain": [
       "'0o245'"
      ]
     },
     "execution_count": 5,
     "metadata": {},
     "output_type": "execute_result"
    }
   ],
   "source": [
    "oct(0xa5)"
   ]
  },
  {
   "cell_type": "code",
   "execution_count": 6,
   "id": "4297c8d9",
   "metadata": {},
   "outputs": [
    {
     "data": {
      "text/plain": [
       "1280"
      ]
     },
     "execution_count": 6,
     "metadata": {},
     "output_type": "execute_result"
    }
   ],
   "source": [
    "0x500"
   ]
  },
  {
   "cell_type": "code",
   "execution_count": 7,
   "id": "af3edd27",
   "metadata": {},
   "outputs": [
    {
     "data": {
      "text/plain": [
       "'0x1f4'"
      ]
     },
     "execution_count": 7,
     "metadata": {},
     "output_type": "execute_result"
    }
   ],
   "source": [
    "hex(500)"
   ]
  },
  {
   "cell_type": "code",
   "execution_count": 10,
   "id": "bb88c9a6",
   "metadata": {},
   "outputs": [
    {
     "name": "stdout",
     "output_type": "stream",
     "text": [
      "Enter the number: 15\n"
     ]
    }
   ],
   "source": [
    "a = int(input('Enter the number: '))"
   ]
  },
  {
   "cell_type": "code",
   "execution_count": 11,
   "id": "964145b3",
   "metadata": {},
   "outputs": [
    {
     "data": {
      "text/plain": [
       "30"
      ]
     },
     "execution_count": 11,
     "metadata": {},
     "output_type": "execute_result"
    }
   ],
   "source": [
    "a*2"
   ]
  },
  {
   "cell_type": "code",
   "execution_count": 14,
   "id": "ecaae459",
   "metadata": {},
   "outputs": [
    {
     "name": "stdout",
     "output_type": "stream",
     "text": [
      "17\n"
     ]
    }
   ],
   "source": [
    "x = int(input())\n",
    "\n",
    "if(x>18):\n",
    "    print('You can Vote')"
   ]
  },
  {
   "cell_type": "code",
   "execution_count": 15,
   "id": "87782f6e",
   "metadata": {},
   "outputs": [
    {
     "name": "stdout",
     "output_type": "stream",
     "text": [
      "Enter your age55\n"
     ]
    }
   ],
   "source": [
    "age = int(input('Enter your age'))"
   ]
  },
  {
   "cell_type": "code",
   "execution_count": 19,
   "id": "5fd48fa8",
   "metadata": {},
   "outputs": [
    {
     "name": "stdout",
     "output_type": "stream",
     "text": [
      "enter age: 22\n",
      "natinlty : indian\n"
     ]
    }
   ],
   "source": [
    "a = int(input('enter age: '))\n",
    "b = input('natinlty : ')\n",
    "if(a<18 or b!= 'indian'): print('not vote')"
   ]
  },
  {
   "cell_type": "code",
   "execution_count": null,
   "id": "0b9c5bf4",
   "metadata": {},
   "outputs": [],
   "source": []
  }
 ],
 "metadata": {
  "kernelspec": {
   "display_name": "Python 3 (ipykernel)",
   "language": "python",
   "name": "python3"
  },
  "language_info": {
   "codemirror_mode": {
    "name": "ipython",
    "version": 3
   },
   "file_extension": ".py",
   "mimetype": "text/x-python",
   "name": "python",
   "nbconvert_exporter": "python",
   "pygments_lexer": "ipython3",
   "version": "3.11.4"
  }
 },
 "nbformat": 4,
 "nbformat_minor": 5
}
