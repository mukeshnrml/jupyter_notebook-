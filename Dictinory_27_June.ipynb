{
 "cells": [
  {
   "cell_type": "code",
   "execution_count": 1,
   "id": "b7d393e3",
   "metadata": {},
   "outputs": [
    {
     "name": "stdout",
     "output_type": "stream",
     "text": [
      "Enter Your age.\n",
      "22\n",
      "Enter your name.\n",
      "Mukesh Nirmal\n",
      "Hii Mukesh Nirmal You are now 22\n"
     ]
    }
   ],
   "source": [
    "a = input('Enter Your age.\\n')\n",
    "b = input ('Enter your name.\\n')\n",
    "c = ('Hii ')+b+(' You are now ')+a\n",
    "print (c)"
   ]
  },
  {
   "cell_type": "code",
   "execution_count": 15,
   "id": "000053bd",
   "metadata": {},
   "outputs": [
    {
     "name": "stdout",
     "output_type": "stream",
     "text": [
      "None\n"
     ]
    }
   ],
   "source": [
    "#Dictinary\n",
    "text1={'one':1,'four':4, 'seven':7}\n",
    "text2= text1.clear()\n",
    "print(text2)"
   ]
  },
  {
   "cell_type": "code",
   "execution_count": 17,
   "id": "1a60f44b",
   "metadata": {},
   "outputs": [
    {
     "name": "stdout",
     "output_type": "stream",
     "text": [
      "{'Apple': 100, 'Orange': 30, 'Banana': 40}\n",
      "{'Apple': 100, 'Orange': 30, 'Banana': 40}\n"
     ]
    }
   ],
   "source": [
    "#copy\n",
    "fruits={'Apple':100,'Orange':30,'Banana':40}\n",
    "print(fruits)\n",
    "f1=fruits.copy()\n",
    "print(f1)"
   ]
  },
  {
   "cell_type": "code",
   "execution_count": 19,
   "id": "212224dc",
   "metadata": {},
   "outputs": [
    {
     "name": "stdout",
     "output_type": "stream",
     "text": [
      "{1: 'Apple', 2: 'Orange', 3: 'Banana', 4: 'Mango'}\n",
      "dict_keys([1, 2, 3, 4])\n"
     ]
    }
   ],
   "source": [
    "#keys\n",
    "fruit1={1:'Apple',2:'Orange',3:'Banana',4:'Mango'}\n",
    "print(fruit1)\n",
    "f2=fruit1.keys()\n",
    "print(f2)"
   ]
  },
  {
   "cell_type": "code",
   "execution_count": 22,
   "id": "10065c53",
   "metadata": {},
   "outputs": [
    {
     "name": "stdout",
     "output_type": "stream",
     "text": [
      "Not Available\n"
     ]
    }
   ],
   "source": [
    "#get\n",
    "f3={'Apple':100,'Orange':30,'Banana':40}\n",
    "f4=f3.get('orange','Not Available')\n",
    "print(f4)"
   ]
  },
  {
   "cell_type": "code",
   "execution_count": 26,
   "id": "17e421fc",
   "metadata": {},
   "outputs": [
    {
     "name": "stdout",
     "output_type": "stream",
     "text": [
      "{'i': 1, 'ii': 2, 'iii': 3, 'iv': 4}\n",
      "dict_items([('i', 1), ('ii', 2), ('iii', 3), ('iv', 4)])\n"
     ]
    }
   ],
   "source": [
    "#item\n",
    "roman={'i':1,'ii':2,'iii':3,'iv':4}\n",
    "print(roman)\n",
    "roma1=roman.items()\n",
    "print(roma1)"
   ]
  },
  {
   "cell_type": "code",
   "execution_count": 28,
   "id": "8f2a90ac",
   "metadata": {},
   "outputs": [
    {
     "name": "stdout",
     "output_type": "stream",
     "text": [
      "color value is: {'red': 10, 'Yellow': 20, 'Orange': 30, 'Green': 40}\n",
      "Updated color us : {'red': 10, 'Yellow': 20, 'Orange': 30, 'Green': 40, 'violet': 50}\n"
     ]
    }
   ],
   "source": [
    "#update\n",
    "color={'red':10, 'Yellow':20,'Orange':30,'Green':40}\n",
    "print('color value is:',color)\n",
    "color.update(violet=50)\n",
    "print('Updated color us :',color)"
   ]
  },
  {
   "cell_type": "code",
   "execution_count": null,
   "id": "c2462cb7",
   "metadata": {},
   "outputs": [],
   "source": []
  }
 ],
 "metadata": {
  "kernelspec": {
   "display_name": "Python 3 (ipykernel)",
   "language": "python",
   "name": "python3"
  },
  "language_info": {
   "codemirror_mode": {
    "name": "ipython",
    "version": 3
   },
   "file_extension": ".py",
   "mimetype": "text/x-python",
   "name": "python",
   "nbconvert_exporter": "python",
   "pygments_lexer": "ipython3",
   "version": "3.11.4"
  }
 },
 "nbformat": 4,
 "nbformat_minor": 5
}
