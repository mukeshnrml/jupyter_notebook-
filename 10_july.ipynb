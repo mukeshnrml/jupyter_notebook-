{
 "cells": [
  {
   "cell_type": "code",
   "execution_count": 8,
   "id": "24ed2b7b",
   "metadata": {},
   "outputs": [
    {
     "name": "stdout",
     "output_type": "stream",
     "text": [
      "Enter your nsti : indore\n",
      "Byeeee!!!\n"
     ]
    }
   ],
   "source": [
    "nsti = input('Enter your nsti : ')\n",
    "if(nsti == 'Allahabad' or nsti == 'Dehradun' or nsti == 'Kanpur' or nsti == 'Patna'):\n",
    "     print ('Welcome to the meeting')\n",
    "else:\n",
    "    print ('Byeeee!!!')"
   ]
  },
  {
   "cell_type": "code",
   "execution_count": 3,
   "id": "51a4cbcd",
   "metadata": {},
   "outputs": [
    {
     "name": "stdout",
     "output_type": "stream",
     "text": [
      "<class 'int'>\n",
      "<class 'str'>\n"
     ]
    }
   ],
   "source": [
    "a = 10\n",
    "b = 'Mukesh'\n",
    "print(type(a))\n",
    "print(type(b))"
   ]
  },
  {
   "cell_type": "code",
   "execution_count": 9,
   "id": "f5c8ebc2",
   "metadata": {},
   "outputs": [
    {
     "data": {
      "text/plain": [
       "9"
      ]
     },
     "execution_count": 9,
     "metadata": {},
     "output_type": "execute_result"
    }
   ],
   "source": [
    "import math as m \n",
    "a = m.ceil(8.1)\n",
    "a"
   ]
  },
  {
   "cell_type": "code",
   "execution_count": 14,
   "id": "bf257344",
   "metadata": {},
   "outputs": [
    {
     "data": {
      "text/plain": [
       "4.0"
      ]
     },
     "execution_count": 14,
     "metadata": {},
     "output_type": "execute_result"
    }
   ],
   "source": [
    "a = m.sqrt(16)\n",
    "a"
   ]
  },
  {
   "cell_type": "code",
   "execution_count": 15,
   "id": "9a36d950",
   "metadata": {},
   "outputs": [
    {
     "data": {
      "text/plain": [
       "65536"
      ]
     },
     "execution_count": 15,
     "metadata": {},
     "output_type": "execute_result"
    }
   ],
   "source": [
    "a = pow(4,8)\n",
    "a"
   ]
  },
  {
   "cell_type": "code",
   "execution_count": 16,
   "id": "20ba62cd",
   "metadata": {},
   "outputs": [
    {
     "data": {
      "text/plain": [
       "5.2"
      ]
     },
     "execution_count": 16,
     "metadata": {},
     "output_type": "execute_result"
    }
   ],
   "source": [
    "abs(-5.2)"
   ]
  },
  {
   "cell_type": "code",
   "execution_count": 17,
   "id": "ed57746d",
   "metadata": {},
   "outputs": [
    {
     "name": "stdout",
     "output_type": "stream",
     "text": [
      "<built-in function abs>\n"
     ]
    }
   ],
   "source": [
    "print(abs)"
   ]
  },
  {
   "cell_type": "code",
   "execution_count": 21,
   "id": "e2c55781",
   "metadata": {},
   "outputs": [
    {
     "data": {
      "text/plain": [
       "6"
      ]
     },
     "execution_count": 21,
     "metadata": {},
     "output_type": "execute_result"
    }
   ],
   "source": [
    "m.factorial(3)"
   ]
  },
  {
   "cell_type": "code",
   "execution_count": 24,
   "id": "81d3a45d",
   "metadata": {},
   "outputs": [
    {
     "data": {
      "text/plain": [
       "3"
      ]
     },
     "execution_count": 24,
     "metadata": {},
     "output_type": "execute_result"
    }
   ],
   "source": [
    "m.gcd(21,12)"
   ]
  },
  {
   "cell_type": "code",
   "execution_count": 27,
   "id": "823f13a9",
   "metadata": {},
   "outputs": [
    {
     "data": {
      "text/plain": [
       "5"
      ]
     },
     "execution_count": 27,
     "metadata": {},
     "output_type": "execute_result"
    }
   ],
   "source": [
    "import random\n",
    "random.randrange(5,10)"
   ]
  },
  {
   "cell_type": "code",
   "execution_count": 30,
   "id": "87d3b424",
   "metadata": {},
   "outputs": [
    {
     "name": "stdout",
     "output_type": "stream",
     "text": [
      "Mukesh \n",
      " Nirmal\n",
      "Mukesh \t Nirmal\n"
     ]
    }
   ],
   "source": [
    "print('Mukesh \\n Nirmal')\n",
    "print('Mukesh \\t Nirmal')"
   ]
  },
  {
   "cell_type": "code",
   "execution_count": 3,
   "id": "ec7e26d3",
   "metadata": {},
   "outputs": [
    {
     "ename": "TypeError",
     "evalue": "'encode' is an invalid keyword argument for encode()",
     "output_type": "error",
     "traceback": [
      "\u001b[1;31m---------------------------------------------------------------------------\u001b[0m",
      "\u001b[1;31mTypeError\u001b[0m                                 Traceback (most recent call last)",
      "Cell \u001b[1;32mIn[3], line 2\u001b[0m\n\u001b[0;32m      1\u001b[0m a \u001b[38;5;241m=\u001b[39m \u001b[38;5;124m'\u001b[39m\u001b[38;5;124mMukes#h\u001b[39m\u001b[38;5;124m'\u001b[39m\n\u001b[1;32m----> 2\u001b[0m \u001b[38;5;28mprint\u001b[39m(\u001b[43ma\u001b[49m\u001b[38;5;241;43m.\u001b[39;49m\u001b[43mencode\u001b[49m\u001b[43m(\u001b[49m\u001b[43mencode\u001b[49m\u001b[38;5;241;43m=\u001b[39;49m\u001b[38;5;124;43m'\u001b[39;49m\u001b[38;5;124;43mascii\u001b[39;49m\u001b[38;5;124;43m'\u001b[39;49m\u001b[43m,\u001b[49m\u001b[43merrors\u001b[49m\u001b[38;5;241;43m=\u001b[39;49m\u001b[38;5;124;43m'\u001b[39;49m\u001b[38;5;124;43mignore\u001b[39;49m\u001b[38;5;124;43m'\u001b[39;49m\u001b[43m)\u001b[49m)\n",
      "\u001b[1;31mTypeError\u001b[0m: 'encode' is an invalid keyword argument for encode()"
     ]
    }
   ],
   "source": [
    "a = 'Mukes#h'\n",
    "print(a.encode(encode='ascii',errors='ignore'))"
   ]
  },
  {
   "cell_type": "code",
   "execution_count": 17,
   "id": "a727765f",
   "metadata": {},
   "outputs": [
    {
     "name": "stdout",
     "output_type": "stream",
     "text": [
      "Enter a number5\n",
      "5\n",
      "10\n",
      "15\n",
      "20\n",
      "25\n",
      "30\n",
      "35\n",
      "40\n",
      "45\n",
      "50\n"
     ]
    }
   ],
   "source": [
    "a = 1 \n",
    "b = int(input('Enter a number'))\n",
    "while (a <= 10):\n",
    "    print(a*b)\n",
    "    a+=1"
   ]
  },
  {
   "cell_type": "code",
   "execution_count": 16,
   "id": "312e7f38",
   "metadata": {},
   "outputs": [
    {
     "name": "stdout",
     "output_type": "stream",
     "text": [
      "Enter9\n",
      "0\n",
      "9\n",
      "18\n",
      "27\n",
      "36\n",
      "45\n",
      "54\n",
      "63\n",
      "72\n",
      "81\n"
     ]
    }
   ],
   "source": [
    "x = int(input('Enter'))\n",
    "for a in range (0,10):\n",
    "    print(x*a)"
   ]
  },
  {
   "cell_type": "code",
   "execution_count": 21,
   "id": "4e87d7f7",
   "metadata": {},
   "outputs": [
    {
     "name": "stdout",
     "output_type": "stream",
     "text": [
      "[1, 3, 5, 6, 6, 9]\n"
     ]
    }
   ],
   "source": [
    "a = (5,6,9,1,6,3)\n",
    "b = sorted(a)\n",
    "print(b)"
   ]
  },
  {
   "cell_type": "code",
   "execution_count": 25,
   "id": "2eb52085",
   "metadata": {},
   "outputs": [
    {
     "name": "stdout",
     "output_type": "stream",
     "text": [
      "2\n"
     ]
    }
   ],
   "source": [
    "f = ['Apple','Banana','Orange','Pineapple']\n",
    "print(f.index('Orange'))"
   ]
  },
  {
   "cell_type": "code",
   "execution_count": 32,
   "id": "cbe7a8d7",
   "metadata": {},
   "outputs": [
    {
     "name": "stdout",
     "output_type": "stream",
     "text": [
      "Simple Interest is:  300.0\n"
     ]
    }
   ],
   "source": [
    "amount = 500\n",
    "year = 12\n",
    "rate = 5\n",
    "si = (amount*year*rate)/100\n",
    "print(\"Simple Interest is: \", si)"
   ]
  },
  {
   "cell_type": "code",
   "execution_count": null,
   "id": "85af2153",
   "metadata": {},
   "outputs": [],
   "source": []
  }
 ],
 "metadata": {
  "kernelspec": {
   "display_name": "Python 3 (ipykernel)",
   "language": "python",
   "name": "python3"
  },
  "language_info": {
   "codemirror_mode": {
    "name": "ipython",
    "version": 3
   },
   "file_extension": ".py",
   "mimetype": "text/x-python",
   "name": "python",
   "nbconvert_exporter": "python",
   "pygments_lexer": "ipython3",
   "version": "3.11.4"
  }
 },
 "nbformat": 4,
 "nbformat_minor": 5
}
