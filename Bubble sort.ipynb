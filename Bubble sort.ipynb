{
 "cells": [
  {
   "cell_type": "code",
   "execution_count": 1,
   "id": "02e3559b",
   "metadata": {},
   "outputs": [
    {
     "name": "stdout",
     "output_type": "stream",
     "text": [
      "No module named 'tensor'\n"
     ]
    }
   ],
   "source": [
    "try:\n",
    "    import tensor\n",
    "except Exception as e:\n",
    "    print(e)"
   ]
  },
  {
   "cell_type": "code",
   "execution_count": 2,
   "id": "277a194a",
   "metadata": {},
   "outputs": [
    {
     "name": "stdout",
     "output_type": "stream",
     "text": [
      "[2, 4, 15, 20, 21, 45, 45]\n"
     ]
    }
   ],
   "source": [
    "x = [45,20,45,15,4,2,21]\n",
    "for i in range (0,len(x)):\n",
    "    for j in range (0,len(x)-1):\n",
    "        if x[j]>x[j+1]:\n",
    "            c=x[j]\n",
    "            x[j]=x[j+1]\n",
    "            x[j+1]=c\n",
    "print(x)"
   ]
  },
  {
   "cell_type": "code",
   "execution_count": 6,
   "id": "a1c86ed4",
   "metadata": {},
   "outputs": [
    {
     "name": "stdout",
     "output_type": "stream",
     "text": [
      "[2, 4, 15, 20, 21, 45, 45]\n"
     ]
    }
   ],
   "source": [
    "x = [45,20,45,15,4,2,21]\n",
    "x.sort()\n",
    "print(x)"
   ]
  },
  {
   "cell_type": "code",
   "execution_count": null,
   "id": "fbd7892b",
   "metadata": {},
   "outputs": [],
   "source": [
    "pip install virtualenv"
   ]
  }
 ],
 "metadata": {
  "kernelspec": {
   "display_name": "Python 3 (ipykernel)",
   "language": "python",
   "name": "python3"
  },
  "language_info": {
   "codemirror_mode": {
    "name": "ipython",
    "version": 3
   },
   "file_extension": ".py",
   "mimetype": "text/x-python",
   "name": "python",
   "nbconvert_exporter": "python",
   "pygments_lexer": "ipython3",
   "version": "3.11.4"
  }
 },
 "nbformat": 4,
 "nbformat_minor": 5
}
