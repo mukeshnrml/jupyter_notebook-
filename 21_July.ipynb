{
 "cells": [
  {
   "cell_type": "code",
   "execution_count": null,
   "id": "f95cd06b",
   "metadata": {},
   "outputs": [],
   "source": [
    "from flask import Flask\n",
    "app=Flask(__name__)\n",
    "@app.route('/')\n",
    "def hello():\n",
    "    return'Welcome to the ADIT Class'\n",
    "\n",
    "if __name__==\"__main__\":\n",
    "    app.run()"
   ]
  },
  {
   "cell_type": "code",
   "execution_count": null,
   "id": "a00fb19b",
   "metadata": {},
   "outputs": [],
   "source": [
    "from flask import Flask\n",
    "app=Flask(__name__)\n",
    "@app.route('/')\n",
    "def hello():\n",
    "    return'Welcome to the ADIT Class'\n",
    "\n",
    "if __name__==\"__main__\":\n",
    "    app.run()"
   ]
  },
  {
   "cell_type": "code",
   "execution_count": null,
   "id": "ac02439c",
   "metadata": {},
   "outputs": [],
   "source": []
  }
 ],
 "metadata": {
  "kernelspec": {
   "display_name": "Python 3 (ipykernel)",
   "language": "python",
   "name": "python3"
  },
  "language_info": {
   "codemirror_mode": {
    "name": "ipython",
    "version": 3
   },
   "file_extension": ".py",
   "mimetype": "text/x-python",
   "name": "python",
   "nbconvert_exporter": "python",
   "pygments_lexer": "ipython3",
   "version": "3.11.4"
  }
 },
 "nbformat": 4,
 "nbformat_minor": 5
}
