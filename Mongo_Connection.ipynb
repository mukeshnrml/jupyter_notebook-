{
 "cells": [
  {
   "cell_type": "markdown",
   "id": "40478c1d",
   "metadata": {},
   "source": [
    "# MongoDB Connection"
   ]
  },
  {
   "cell_type": "code",
   "execution_count": 1,
   "id": "54a28a7d",
   "metadata": {},
   "outputs": [],
   "source": [
    "import pymongo"
   ]
  },
  {
   "cell_type": "code",
   "execution_count": 2,
   "id": "cfef4d4a",
   "metadata": {},
   "outputs": [
    {
     "name": "stdout",
     "output_type": "stream",
     "text": [
      "MongoClient(host=['localhost:27017'], document_class=dict, tz_aware=False, connect=True)\n"
     ]
    }
   ],
   "source": [
    "connection = pymongo.MongoClient('mongodb://localhost:27017')\n",
    "print(connection)"
   ]
  },
  {
   "cell_type": "code",
   "execution_count": 6,
   "id": "07e5f5e1",
   "metadata": {},
   "outputs": [
    {
     "name": "stdout",
     "output_type": "stream",
     "text": [
      "Database(MongoClient(host=['localhost:27017'], document_class=dict, tz_aware=False, connect=True), 'dehradun')\n"
     ]
    }
   ],
   "source": [
    "database1 = connection['dehradun']\n",
    "print(database1)"
   ]
  },
  {
   "cell_type": "code",
   "execution_count": 7,
   "id": "6c2c0dd8",
   "metadata": {},
   "outputs": [
    {
     "name": "stdout",
     "output_type": "stream",
     "text": [
      "Collection(Database(MongoClient(host=['localhost:27017'], document_class=dict, tz_aware=False, connect=True), 'dehradun'), 'student')\n"
     ]
    }
   ],
   "source": [
    "collection = database1['student']\n",
    "print(collection)"
   ]
  },
  {
   "cell_type": "code",
   "execution_count": 5,
   "id": "fd4bdcc9",
   "metadata": {},
   "outputs": [
    {
     "name": "stdout",
     "output_type": "stream",
     "text": [
      "<pymongo.results.InsertOneResult object at 0x000001C0B65FBA00>\n"
     ]
    }
   ],
   "source": [
    "document = collection.insert_one({'name':'Mukesh','age':18,'laptop':True})\n",
    "print(document)"
   ]
  },
  {
   "cell_type": "code",
   "execution_count": 8,
   "id": "344a0374",
   "metadata": {},
   "outputs": [
    {
     "name": "stdout",
     "output_type": "stream",
     "text": [
      "<pymongo.results.InsertManyResult object at 0x000001C0B6BB8FD0>\n"
     ]
    }
   ],
   "source": [
    "document1 = collection.insert_many([{'name':'Nirmal','age':19},{'name':'Ashish','age':15},{'name':'Akash','age':21}])\n",
    "print(document1)"
   ]
  },
  {
   "cell_type": "code",
   "execution_count": 9,
   "id": "886541c6",
   "metadata": {},
   "outputs": [
    {
     "name": "stdout",
     "output_type": "stream",
     "text": [
      "<pymongo.results.InsertOneResult object at 0x000001C0B65FBA00>\n"
     ]
    }
   ],
   "source": [
    "document2 = collection.insert_one({'name':'Bhagwan','age':18,'laptop':True})\n",
    "print(document)"
   ]
  },
  {
   "cell_type": "code",
   "execution_count": 10,
   "id": "5ad5ff30",
   "metadata": {},
   "outputs": [
    {
     "name": "stdout",
     "output_type": "stream",
     "text": [
      "<pymongo.results.InsertManyResult object at 0x000001C0B6BB95A0>\n"
     ]
    }
   ],
   "source": [
    "set2 = [{'name':'aman','laptop':False},{'name':'parvesh','age':22},{'name':'manisha','age':21}]\n",
    "document3 = collection.insert_many(set2)\n",
    "print(document3)"
   ]
  },
  {
   "cell_type": "code",
   "execution_count": 14,
   "id": "d1c499dd",
   "metadata": {},
   "outputs": [
    {
     "name": "stdout",
     "output_type": "stream",
     "text": [
      "['admin', 'company', 'config', 'dehradun', 'doon', 'local', 'mongodbVSCodePlaygroundDB', 'nirmal', 'nsti', 'test']\n"
     ]
    }
   ],
   "source": [
    "print(connection.list_database_names())"
   ]
  },
  {
   "cell_type": "code",
   "execution_count": 16,
   "id": "010db94c",
   "metadata": {},
   "outputs": [
    {
     "data": {
      "text/plain": [
       "['CHNM', 'CSA', 'ELE', 'Solar', 'EM', 'ADIT']"
      ]
     },
     "execution_count": 16,
     "metadata": {},
     "output_type": "execute_result"
    }
   ],
   "source": [
    "a = connection['doon']\n",
    "a.list_collection_names()"
   ]
  },
  {
   "cell_type": "code",
   "execution_count": 8,
   "id": "1cc9a94d",
   "metadata": {},
   "outputs": [
    {
     "data": {
      "text/plain": [
       "{'_id': ObjectId('64b4c28d79217933d953058a'),\n",
       " 'name': 'Mukesh',\n",
       " 'age': 18,\n",
       " 'laptop': True}"
      ]
     },
     "execution_count": 8,
     "metadata": {},
     "output_type": "execute_result"
    }
   ],
   "source": [
    "collection.find_one()"
   ]
  },
  {
   "cell_type": "code",
   "execution_count": 9,
   "id": "a2ac3b4a",
   "metadata": {},
   "outputs": [
    {
     "name": "stdout",
     "output_type": "stream",
     "text": [
      "{'_id': ObjectId('64b4c28d79217933d953058a'), 'name': 'Mukesh', 'age': 18, 'laptop': True}\n",
      "{'_id': ObjectId('64b4c42579217933d953058b'), 'name': 'Nirmal', 'age': 19}\n",
      "{'_id': ObjectId('64b4c42579217933d953058c'), 'name': 'Ashish', 'age': 15}\n",
      "{'_id': ObjectId('64b4c42579217933d953058d'), 'name': 'Akash', 'age': 21}\n",
      "{'_id': ObjectId('64b4c64379217933d953058e'), 'name': 'Bhagwan', 'age': 18, 'laptop': True}\n",
      "{'_id': ObjectId('64b4c6ee79217933d953058f'), 'name': 'aman', 'laptop': False}\n",
      "{'_id': ObjectId('64b4c6ee79217933d9530590'), 'name': 'parvesh', 'age': 22}\n",
      "{'_id': ObjectId('64b4c6ee79217933d9530591'), 'name': 'manisha', 'age': 21}\n"
     ]
    }
   ],
   "source": [
    "d = collection.find()\n",
    "for x in d:print(x)"
   ]
  },
  {
   "cell_type": "code",
   "execution_count": 10,
   "id": "e2bfbe91",
   "metadata": {},
   "outputs": [
    {
     "name": "stdout",
     "output_type": "stream",
     "text": [
      "{'_id': ObjectId('64b4c28d79217933d953058a'), 'name': 'Mukesh', 'age': 18, 'laptop': True}\n"
     ]
    }
   ],
   "source": [
    "e = collection.find({'name':'Mukesh'})\n",
    "for x in e:print(x)"
   ]
  },
  {
   "cell_type": "code",
   "execution_count": 17,
   "id": "cd179ca2",
   "metadata": {},
   "outputs": [
    {
     "name": "stdout",
     "output_type": "stream",
     "text": [
      "{'_id': ObjectId('64b4c28d79217933d953058a'), 'name': 'Mukesh', 'age': 18, 'laptop': True}\n",
      "{'_id': ObjectId('64b4c42579217933d953058b'), 'name': 'Nirmal', 'age': 19}\n",
      "{'_id': ObjectId('64b4c42579217933d953058d'), 'name': 'Akash', 'age': 21}\n",
      "{'_id': ObjectId('64b4c64379217933d953058e'), 'name': 'Bhagwan', 'age': 18, 'laptop': True}\n",
      "{'_id': ObjectId('64b4c6ee79217933d9530591'), 'name': 'manisha', 'age': 21}\n"
     ]
    }
   ],
   "source": [
    "f = collection.find({'age':{'$gt':17}})\n",
    "for x in f:print(x)"
   ]
  },
  {
   "cell_type": "code",
   "execution_count": 16,
   "id": "a2daf3ef",
   "metadata": {},
   "outputs": [],
   "source": [
    "k = collection.delete_one({'age':22})"
   ]
  },
  {
   "cell_type": "code",
   "execution_count": 1,
   "id": "03fd55e3",
   "metadata": {},
   "outputs": [],
   "source": [
    "import csv\n",
    "import pymongo\n",
    "connection = pymongo.MongoClient('mongodb://localhost:27017')\n",
    "db = connection['ITIBihar']\n",
    "coll = db['college']\n",
    "header = ['state','count','trade','seat']\n",
    "\n",
    "with open('iti.csv','r') as file"
   ]
  },
  {
   "cell_type": "code",
   "execution_count": null,
   "id": "98283716",
   "metadata": {},
   "outputs": [],
   "source": []
  }
 ],
 "metadata": {
  "kernelspec": {
   "display_name": "Python 3 (ipykernel)",
   "language": "python",
   "name": "python3"
  },
  "language_info": {
   "codemirror_mode": {
    "name": "ipython",
    "version": 3
   },
   "file_extension": ".py",
   "mimetype": "text/x-python",
   "name": "python",
   "nbconvert_exporter": "python",
   "pygments_lexer": "ipython3",
   "version": "3.11.4"
  }
 },
 "nbformat": 4,
 "nbformat_minor": 5
}
