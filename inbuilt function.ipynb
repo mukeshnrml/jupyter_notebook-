{
 "cells": [
  {
   "cell_type": "markdown",
   "id": "b0e1d089",
   "metadata": {},
   "source": [
    "# 26_June_23 (inbulit function)\n"
   ]
  },
  {
   "cell_type": "code",
   "execution_count": 2,
   "id": "644622ea",
   "metadata": {},
   "outputs": [
    {
     "name": "stdout",
     "output_type": "stream",
     "text": [
      "0b1111\n"
     ]
    }
   ],
   "source": [
    "#Binary\n",
    "num1=bin(15)\n",
    "print(num1)"
   ]
  },
  {
   "cell_type": "code",
   "execution_count": 4,
   "id": "dfc93d1e",
   "metadata": {},
   "outputs": [
    {
     "name": "stdout",
     "output_type": "stream",
     "text": [
      "0o145\n"
     ]
    }
   ],
   "source": [
    "#Octal\n",
    "num2=oct(101)\n",
    "print(num2)"
   ]
  },
  {
   "cell_type": "code",
   "execution_count": 7,
   "id": "a2ce32ea",
   "metadata": {},
   "outputs": [
    {
     "name": "stdout",
     "output_type": "stream",
     "text": [
      "0x19\n"
     ]
    }
   ],
   "source": [
    "#Hexadecimal\n",
    "num3=hex(25)\n",
    "print(num3)"
   ]
  },
  {
   "cell_type": "code",
   "execution_count": 12,
   "id": "e3379603",
   "metadata": {},
   "outputs": [
    {
     "name": "stdout",
     "output_type": "stream",
     "text": [
      "(15+0j)\n"
     ]
    }
   ],
   "source": [
    "#Complex\n",
    "num4=complex(15)\n",
    "print(num4)"
   ]
  },
  {
   "cell_type": "code",
   "execution_count": 25,
   "id": "bc169cb2",
   "metadata": {},
   "outputs": [
    {
     "name": "stdout",
     "output_type": "stream",
     "text": [
      "Welcome to nsti DDN\n",
      "Welcome to nsti ALD\n",
      "Welcome to nsti KNP\n",
      "Welcome to nsti patna\n"
     ]
    }
   ],
   "source": [
    "#String\n",
    "str1='Welcome to nsti DDN'\n",
    "str2=\"Welcome to nsti ALD\"\n",
    "str3='''Welcome to nsti KNP'''\n",
    "str4=\"\"\"Welcome to nsti patna\"\"\"\n",
    "print(str1)\n",
    "print(str2)\n",
    "print(str3)\n",
    "print(str4)"
   ]
  },
  {
   "cell_type": "code",
   "execution_count": 22,
   "id": "5beb008b",
   "metadata": {},
   "outputs": [
    {
     "name": "stdout",
     "output_type": "stream",
     "text": [
      "()\n"
     ]
    }
   ],
   "source": [
    "#Slicing\n",
    "word1='123456789456','Mukesh'\n",
    "word2=word1[-1:0]\n",
    "print(word2)"
   ]
  },
  {
   "cell_type": "code",
   "execution_count": 28,
   "id": "f6c8da01",
   "metadata": {},
   "outputs": [
    {
     "name": "stdout",
     "output_type": "stream",
     "text": [
      "Please enter your first name.\n",
      "Mukesh \n",
      "Please enter your last name.\n",
      "Nirmal\n",
      "Mukesh Nirmal\n"
     ]
    }
   ],
   "source": [
    "fname=input('Please enter your first name.\\n')\n",
    "lname=input('Please enter your last name.\\n')\n",
    "fullname=fname+lname\n",
    "print(fullname)\n"
   ]
  },
  {
   "cell_type": "code",
   "execution_count": 30,
   "id": "e5841a2f",
   "metadata": {},
   "outputs": [
    {
     "name": "stdout",
     "output_type": "stream",
     "text": [
      "Python language Learning is fun\n"
     ]
    }
   ],
   "source": [
    "text1='Python language'\n",
    "text2='Learning is fun'\n",
    "text3=text1+\" \"+text2\n",
    "print(text3)"
   ]
  },
  {
   "cell_type": "code",
   "execution_count": 35,
   "id": "2cae299d",
   "metadata": {},
   "outputs": [
    {
     "name": "stdout",
     "output_type": "stream",
     "text": [
      "D-e-h-r-a-d-u-n\n"
     ]
    }
   ],
   "source": [
    "#join\n",
    "strr1='-'\n",
    "strr2='Dehradun'\n",
    "strr3=strr1.join(strr2)\n",
    "print(strr3)"
   ]
  },
  {
   "cell_type": "code",
   "execution_count": 40,
   "id": "7263b5e7",
   "metadata": {},
   "outputs": [
    {
     "name": "stdout",
     "output_type": "stream",
     "text": [
      "True\n",
      "False\n",
      "True\n"
     ]
    }
   ],
   "source": [
    "#isalnum\n",
    "tex='Hello1234'\n",
    "print(tex.isalnum())\n",
    "tex2='#@1'\n",
    "print(tex2.isalnum())\n",
    "tex3='Mukesh'\n",
    "print(tex3.isalnum())"
   ]
  },
  {
   "cell_type": "code",
   "execution_count": 42,
   "id": "dcaa98a4",
   "metadata": {},
   "outputs": [
    {
     "name": "stdout",
     "output_type": "stream",
     "text": [
      "False\n",
      "True\n"
     ]
    }
   ],
   "source": [
    "#isalpha\n",
    "alpha1='hello12345'\n",
    "print(alpha1.isalpha())\n",
    "\n",
    "alpha2='Bhagwan'\n",
    "print(alpha2.isalpha())\n"
   ]
  },
  {
   "cell_type": "code",
   "execution_count": 45,
   "id": "134913af",
   "metadata": {},
   "outputs": [
    {
     "name": "stdout",
     "output_type": "stream",
     "text": [
      "True\n",
      "False\n"
     ]
    }
   ],
   "source": [
    "#isdeciaml\n",
    "numstr='123456789663'\n",
    "print(numstr.isdecimal())\n",
    "num2='@'\n",
    "print(num2.isdecimal())"
   ]
  },
  {
   "cell_type": "code",
   "execution_count": 47,
   "id": "bfe232e9",
   "metadata": {},
   "outputs": [
    {
     "name": "stdout",
     "output_type": "stream",
     "text": [
      "True\n",
      "False\n"
     ]
    }
   ],
   "source": [
    "#islower\n",
    "str5='welcome'\n",
    "print(str5.islower())\n",
    "\n",
    "str6='Weclome123#'\n",
    "print(str6.islower())"
   ]
  },
  {
   "cell_type": "code",
   "execution_count": 49,
   "id": "b8eee102",
   "metadata": {},
   "outputs": [
    {
     "name": "stdout",
     "output_type": "stream",
     "text": [
      "True\n",
      "False\n"
     ]
    }
   ],
   "source": [
    "#isupper\n",
    "str7='WELCOME'\n",
    "print(str7.isupper())\n",
    "\n",
    "str8='welcome'\n",
    "print(str8.isupper())"
   ]
  },
  {
   "cell_type": "code",
   "execution_count": 53,
   "id": "61514709",
   "metadata": {},
   "outputs": [
    {
     "name": "stdout",
     "output_type": "stream",
     "text": [
      "['C', 'C++', 'python', 'Java', 'SQL']\n"
     ]
    }
   ],
   "source": [
    "#split\n",
    "lang='C,C++,python,Java,SQL'\n",
    "print(lang.split(','))"
   ]
  },
  {
   "cell_type": "code",
   "execution_count": 56,
   "id": "1f8c5ddb",
   "metadata": {},
   "outputs": [
    {
     "name": "stdout",
     "output_type": "stream",
     "text": [
      "Mukesh Nirmal\n"
     ]
    }
   ],
   "source": [
    "#strip\n",
    "#zfill\n",
    "\n",
    "nam='Mukesh Nirmal'\n",
    "print(nam.strip())"
   ]
  },
  {
   "cell_type": "code",
   "execution_count": null,
   "id": "2fe6d0cb",
   "metadata": {},
   "outputs": [],
   "source": []
  }
 ],
 "metadata": {
  "kernelspec": {
   "display_name": "Python 3 (ipykernel)",
   "language": "python",
   "name": "python3"
  },
  "language_info": {
   "codemirror_mode": {
    "name": "ipython",
    "version": 3
   },
   "file_extension": ".py",
   "mimetype": "text/x-python",
   "name": "python",
   "nbconvert_exporter": "python",
   "pygments_lexer": "ipython3",
   "version": "3.11.4"
  }
 },
 "nbformat": 4,
 "nbformat_minor": 5
}
