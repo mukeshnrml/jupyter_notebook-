{
 "cells": [
  {
   "cell_type": "code",
   "execution_count": 5,
   "id": "d0803d11",
   "metadata": {},
   "outputs": [
    {
     "name": "stdout",
     "output_type": "stream",
     "text": [
      "Enter a number21\n",
      "Not a valid Number!\n"
     ]
    }
   ],
   "source": [
    "a = int(input('Enter a number'))\n",
    "\n",
    "if (a < 18):\n",
    "    print('You are not eligible')\n",
    "\n",
    "elif (a == 18):\n",
    "    print ('You are eligible')\n",
    "\n",
    "else:\n",
    "    print ('Not a valid Number!')"
   ]
  },
  {
   "cell_type": "code",
   "execution_count": 9,
   "id": "8e9247ad",
   "metadata": {},
   "outputs": [
    {
     "name": "stdout",
     "output_type": "stream",
     "text": [
      "Enter a first number : 10\n",
      "Enter second Number : 10\n",
      "B\n"
     ]
    }
   ],
   "source": [
    "rst_no = int(input('Enter a first number : '))\n",
    "sec_no = int(input('Enter second Number : '))\n",
    "print('A') if (rst_no<sec_no) else print('B') if (rst_no == sec_no) else print('==')"
   ]
  },
  {
   "cell_type": "code",
   "execution_count": 22,
   "id": "411e1486",
   "metadata": {},
   "outputs": [
    {
     "name": "stdout",
     "output_type": "stream",
     "text": [
      "0\n",
      "5\n",
      "10\n",
      "15\n"
     ]
    }
   ],
   "source": [
    "# For Loop\n",
    "\n",
    "\n",
    "for i in range(0,20,5):\n",
    "    print(i)\n",
    "    if i == 10:\n",
    "        continue"
   ]
  },
  {
   "cell_type": "code",
   "execution_count": 1,
   "id": "af0995e2",
   "metadata": {},
   "outputs": [
    {
     "name": "stdout",
     "output_type": "stream",
     "text": [
      "10\n",
      "11\n",
      "12\n",
      "13\n",
      "14\n",
      "15\n",
      "16\n",
      "17\n",
      "18\n",
      "19\n"
     ]
    }
   ],
   "source": [
    "a=10\n",
    "while a<20:\n",
    "    print(a)\n",
    "    a+=1"
   ]
  },
  {
   "cell_type": "code",
   "execution_count": null,
   "id": "ff3d9665",
   "metadata": {},
   "outputs": [],
   "source": []
  }
 ],
 "metadata": {
  "kernelspec": {
   "display_name": "Python 3 (ipykernel)",
   "language": "python",
   "name": "python3"
  },
  "language_info": {
   "codemirror_mode": {
    "name": "ipython",
    "version": 3
   },
   "file_extension": ".py",
   "mimetype": "text/x-python",
   "name": "python",
   "nbconvert_exporter": "python",
   "pygments_lexer": "ipython3",
   "version": "3.11.4"
  }
 },
 "nbformat": 4,
 "nbformat_minor": 5
}
