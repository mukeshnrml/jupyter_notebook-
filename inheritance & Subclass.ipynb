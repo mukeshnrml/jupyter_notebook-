{
 "cells": [
  {
   "cell_type": "code",
   "execution_count": 33,
   "id": "5762402f",
   "metadata": {},
   "outputs": [],
   "source": [
    "class ADIT:\n",
    "    def __init__(self, name, age, phone, location):\n",
    "        self.name = name\n",
    "        self.age = age\n",
    "        self.phone = phone\n",
    "        self.location = location\n",
    "        self.email = name+'.'+location+'@gmail.com'\n",
    "        self.stipend = 3000\n",
    "    def increment(self):\n",
    "        self.stipend = self.stipend*0.15+self.stipend"
   ]
  },
  {
   "cell_type": "code",
   "execution_count": 34,
   "id": "c8086958",
   "metadata": {},
   "outputs": [],
   "source": [
    "class Web(ADIT):\n",
    "    pass"
   ]
  },
  {
   "cell_type": "code",
   "execution_count": 35,
   "id": "f30267d6",
   "metadata": {},
   "outputs": [],
   "source": [
    "class Network(ADIT):\n",
    "    pass"
   ]
  },
  {
   "cell_type": "code",
   "execution_count": 36,
   "id": "9d6a8fca",
   "metadata": {},
   "outputs": [],
   "source": [
    "class Cloud(ADIT):\n",
    "    pass"
   ]
  },
  {
   "cell_type": "code",
   "execution_count": 37,
   "id": "8047630f",
   "metadata": {},
   "outputs": [],
   "source": [
    "Mukesh = Cloud('Mukesh',19, 8948982000, 'Dehradun')\n",
    "Bhagwan = Web ('Bhagwan',20,894885445,'Ludhiana')\n",
    "Aman = Network('Aman',49,45844555,'Bijanaur')"
   ]
  },
  {
   "cell_type": "code",
   "execution_count": 38,
   "id": "c007a40b",
   "metadata": {},
   "outputs": [],
   "source": [
    "Aman.increment()"
   ]
  },
  {
   "cell_type": "code",
   "execution_count": 39,
   "id": "09074d6a",
   "metadata": {},
   "outputs": [
    {
     "data": {
      "text/plain": [
       "3450.0"
      ]
     },
     "execution_count": 39,
     "metadata": {},
     "output_type": "execute_result"
    }
   ],
   "source": [
    "Aman.stipend"
   ]
  },
  {
   "cell_type": "code",
   "execution_count": null,
   "id": "b999b11b",
   "metadata": {},
   "outputs": [],
   "source": []
  },
  {
   "cell_type": "code",
   "execution_count": 5,
   "id": "9387be25",
   "metadata": {},
   "outputs": [],
   "source": [
    "a = 'my \\n name \\t is mukesh'\n",
    "b = r'my \\n name \\t is mukesh'"
   ]
  },
  {
   "cell_type": "code",
   "execution_count": 6,
   "id": "b10a3d8d",
   "metadata": {},
   "outputs": [
    {
     "name": "stdout",
     "output_type": "stream",
     "text": [
      "my \n",
      " name \t is mukesh\n",
      "my \\n name \\t is mukesh\n"
     ]
    }
   ],
   "source": [
    "print(a)\n",
    "print(b)"
   ]
  },
  {
   "cell_type": "code",
   "execution_count": 1,
   "id": "7ba6105c",
   "metadata": {},
   "outputs": [
    {
     "name": "stdout",
     "output_type": "stream",
     "text": [
      " HALALALUIYA\n"
     ]
    }
   ],
   "source": [
    "import mm\n",
    "\n",
    "mm.hello()"
   ]
  },
  {
   "cell_type": "code",
   "execution_count": 1,
   "id": "17e3d37a",
   "metadata": {},
   "outputs": [],
   "source": [
    "import numpy as np\n",
    "import matplotlib.pyplot as plt"
   ]
  },
  {
   "cell_type": "code",
   "execution_count": 5,
   "id": "59c85c61",
   "metadata": {},
   "outputs": [
    {
     "data": {
      "image/png": "[encoded data removed]",
      "text/plain": [
       "<Figure size 800x800 with 1 Axes>"
      ]
     },
     "metadata": {},
     "output_type": "display_data"
    }
   ],
   "source": [
    "a = np.array([1, 4, 8, 4])\n",
    "\n",
    "\n",
    "figure, axis = plt.subplots(figsize=(8,8))\n",
    "axis.hist(a, bins=[0.5,1, 1.5, 2])\n",
    "plt.show()"
   ]
  },
  {
   "cell_type": "code",
   "execution_count": 10,
   "id": "a77ed9fe",
   "metadata": {},
   "outputs": [
    {
     "name": "stdout",
     "output_type": "stream",
     "text": [
      "4\n"
     ]
    }
   ],
   "source": [
    "a = ['Mukesh',58,78,'jhy']\n",
    "print(len(a))"
   ]
  },
  {
   "cell_type": "code",
   "execution_count": 12,
   "id": "d6c49118",
   "metadata": {},
   "outputs": [
    {
     "name": "stdout",
     "output_type": "stream",
     "text": [
      "Enter temp in celsius5\n",
      "41.0\n"
     ]
    }
   ],
   "source": [
    "celsius = float(input('Enter temp in celsius'))\n",
    "fahre = ((celsius*9/5)+32)\n",
    "print(fahre)"
   ]
  },
  {
   "cell_type": "code",
   "execution_count": 14,
   "id": "8cce09ce",
   "metadata": {},
   "outputs": [
    {
     "name": "stdout",
     "output_type": "stream",
     "text": [
      "How Many2\n",
      "Fibonachi Series is : \n",
      "0\n",
      "1\n"
     ]
    }
   ],
   "source": [
    "a = int(input('How Many'))\n",
    "n1, n2 = 0, 1\n",
    "count = 0\n",
    "\n",
    "if a<=0:\n",
    "    print('Fibonacci series wont exist fro 0 or negetive')\n",
    "    \n",
    "elif a==1:\n",
    "    print('Fibonachi series : ', n1)\n",
    "    \n",
    "else:\n",
    "    print('Fibonachi Series is : ')\n",
    "    while count<a:\n",
    "        print(n1)\n",
    "        nth = n1+n2\n",
    "        n1=n2\n",
    "        count+=1\n",
    "        "
   ]
  },
  {
   "cell_type": "code",
   "execution_count": 19,
   "id": "4a2927f6",
   "metadata": {},
   "outputs": [
    {
     "name": "stdout",
     "output_type": "stream",
     "text": [
      "Enter the Number5\n",
      "factorial of 5 is 120\n"
     ]
    }
   ],
   "source": [
    "# Factorial \n",
    "\n",
    "a = int(input('Enter the Number'))\n",
    "b = 1\n",
    "\n",
    "for i in range(1, a+1):\n",
    "     b = b *i\n",
    "        \n",
    "        \n",
    "print('factorial of {} is'.format(a),b)"
   ]
  },
  {
   "cell_type": "code",
   "execution_count": 20,
   "id": "f89e943c",
   "metadata": {},
   "outputs": [
    {
     "name": "stdout",
     "output_type": "stream",
     "text": [
      "Enter the Number5\n",
      "Factorial of 5 is : 120\n"
     ]
    }
   ],
   "source": [
    "import math\n",
    "a = int(input('Enter the Number'))\n",
    "\n",
    "math.factorial(a)\n",
    "print('Factorial of {} is : {}'.format(a, b))"
   ]
  },
  {
   "cell_type": "code",
   "execution_count": 29,
   "id": "8d23b50e",
   "metadata": {},
   "outputs": [
    {
     "name": "stdout",
     "output_type": "stream",
     "text": [
      "Malyalam\n",
      "Not palindrom\n"
     ]
    }
   ],
   "source": [
    "a = input()\n",
    "c = a.casefold()\n",
    "b = reversed(c)\n",
    "\n",
    "if list(c)==list(b):\n",
    "    print('The text is palindrom')\n",
    "else:\n",
    "    print('Not palindrom')\n",
    "    "
   ]
  },
  {
   "cell_type": "code",
   "execution_count": 33,
   "id": "19181ee5",
   "metadata": {},
   "outputs": [
    {
     "name": "stdout",
     "output_type": "stream",
     "text": [
      "enter the number : 5\n"
     ]
    }
   ],
   "source": [
    "import math\n",
    "class circle():\n",
    "    def __init__(self,radius):\n",
    "        self.radius=radius\n",
    "    def area(self):\n",
    "        return math.pi*self.radius*self.radius\n",
    "    def perimeter(self):\n",
    "        return 2*math.pi*radius\n",
    "\n",
    "a = float(input('enter the number : '))\n",
    "\n",
    "first = circle(a)"
   ]
  },
  {
   "cell_type": "code",
   "execution_count": 35,
   "id": "72d5aec5",
   "metadata": {},
   "outputs": [
    {
     "name": "stdout",
     "output_type": "stream",
     "text": [
      "area of the circle with redius 5.0 is 78.53981633974483\n"
     ]
    }
   ],
   "source": [
    "print ('area of the circle with redius {} is {}'.format(a,first.area()))"
   ]
  },
  {
   "cell_type": "code",
   "execution_count": 40,
   "id": "84f0c80e",
   "metadata": {},
   "outputs": [
    {
     "name": "stdout",
     "output_type": "stream",
     "text": [
      "12\n",
      "24\n",
      "32\n",
      "24\n",
      "54\n"
     ]
    }
   ],
   "source": [
    "def bubbleshort(a):\n",
    "    n = len(a)\n",
    "    for i in range(n-1):\n",
    "        for j in (0, n-i-1):\n",
    "            if a[j]>a[j+1]:\n",
    "                c = True\n",
    "                a[j],a[j+1]=a[j+1],a[j]\n",
    "            if not c:\n",
    "                return\n",
    "a = [12,24,32,24,54]\n",
    "\n",
    "for x in range(len(a)):\n",
    "    print(a[x])"
   ]
  },
  {
   "cell_type": "code",
   "execution_count": null,
   "id": "b5c8e90d",
   "metadata": {},
   "outputs": [],
   "source": []
  }
 ],
 "metadata": {
  "kernelspec": {
   "display_name": "Python 3 (ipykernel)",
   "language": "python",
   "name": "python3"
  },
  "language_info": {
   "codemirror_mode": {
    "name": "ipython",
    "version": 3
   },
   "file_extension": ".py",
   "mimetype": "text/x-python",
   "name": "python",
   "nbconvert_exporter": "python",
   "pygments_lexer": "ipython3",
   "version": "3.11.4"
  }
 },
 "nbformat": 4,
 "nbformat_minor": 5
}
